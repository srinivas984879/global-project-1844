{
 "cells": [
  {
   "cell_type": "code",
   "execution_count": 79,
   "id": "15c29ec9",
   "metadata": {},
   "outputs": [],
   "source": [
    "import pandas as pd\n",
    "import numpy as np"
   ]
  },
  {
   "cell_type": "code",
   "execution_count": 80,
   "id": "7c7a00cc",
   "metadata": {},
   "outputs": [],
   "source": [
    "df = pd.read_csv('https://raw.githubusercontent.com/wri/global-power-plant-database/master/source_databases_csv/database_IND.csv')"
   ]
  },
  {
   "cell_type": "code",
   "execution_count": 81,
   "id": "ca13499a",
   "metadata": {},
   "outputs": [
    {
     "data": {
      "text/html": [
       "<div>\n",
       "<style scoped>\n",
       "    .dataframe tbody tr th:only-of-type {\n",
       "        vertical-align: middle;\n",
       "    }\n",
       "\n",
       "    .dataframe tbody tr th {\n",
       "        vertical-align: top;\n",
       "    }\n",
       "\n",
       "    .dataframe thead th {\n",
       "        text-align: right;\n",
       "    }\n",
       "</style>\n",
       "<table border=\"1\" class=\"dataframe\">\n",
       "  <thead>\n",
       "    <tr style=\"text-align: right;\">\n",
       "      <th></th>\n",
       "      <th>country</th>\n",
       "      <th>country_long</th>\n",
       "      <th>name</th>\n",
       "      <th>gppd_idnr</th>\n",
       "      <th>capacity_mw</th>\n",
       "      <th>latitude</th>\n",
       "      <th>longitude</th>\n",
       "      <th>primary_fuel</th>\n",
       "      <th>other_fuel1</th>\n",
       "      <th>other_fuel2</th>\n",
       "      <th>...</th>\n",
       "      <th>year_of_capacity_data</th>\n",
       "      <th>generation_gwh_2013</th>\n",
       "      <th>generation_gwh_2014</th>\n",
       "      <th>generation_gwh_2015</th>\n",
       "      <th>generation_gwh_2016</th>\n",
       "      <th>generation_gwh_2017</th>\n",
       "      <th>generation_gwh_2018</th>\n",
       "      <th>generation_gwh_2019</th>\n",
       "      <th>generation_data_source</th>\n",
       "      <th>estimated_generation_gwh</th>\n",
       "    </tr>\n",
       "  </thead>\n",
       "  <tbody>\n",
       "    <tr>\n",
       "      <th>0</th>\n",
       "      <td>IND</td>\n",
       "      <td>India</td>\n",
       "      <td>ACME Solar Tower</td>\n",
       "      <td>WRI1020239</td>\n",
       "      <td>2.5</td>\n",
       "      <td>28.1839</td>\n",
       "      <td>73.2407</td>\n",
       "      <td>Solar</td>\n",
       "      <td>NaN</td>\n",
       "      <td>NaN</td>\n",
       "      <td>...</td>\n",
       "      <td>NaN</td>\n",
       "      <td>NaN</td>\n",
       "      <td>NaN</td>\n",
       "      <td>NaN</td>\n",
       "      <td>NaN</td>\n",
       "      <td>NaN</td>\n",
       "      <td>NaN</td>\n",
       "      <td>NaN</td>\n",
       "      <td>NaN</td>\n",
       "      <td>NaN</td>\n",
       "    </tr>\n",
       "    <tr>\n",
       "      <th>1</th>\n",
       "      <td>IND</td>\n",
       "      <td>India</td>\n",
       "      <td>ADITYA CEMENT WORKS</td>\n",
       "      <td>WRI1019881</td>\n",
       "      <td>98.0</td>\n",
       "      <td>24.7663</td>\n",
       "      <td>74.6090</td>\n",
       "      <td>Coal</td>\n",
       "      <td>NaN</td>\n",
       "      <td>NaN</td>\n",
       "      <td>...</td>\n",
       "      <td>NaN</td>\n",
       "      <td>NaN</td>\n",
       "      <td>NaN</td>\n",
       "      <td>NaN</td>\n",
       "      <td>NaN</td>\n",
       "      <td>NaN</td>\n",
       "      <td>NaN</td>\n",
       "      <td>NaN</td>\n",
       "      <td>NaN</td>\n",
       "      <td>NaN</td>\n",
       "    </tr>\n",
       "    <tr>\n",
       "      <th>2</th>\n",
       "      <td>IND</td>\n",
       "      <td>India</td>\n",
       "      <td>AES Saurashtra Windfarms</td>\n",
       "      <td>WRI1026669</td>\n",
       "      <td>39.2</td>\n",
       "      <td>21.9038</td>\n",
       "      <td>69.3732</td>\n",
       "      <td>Wind</td>\n",
       "      <td>NaN</td>\n",
       "      <td>NaN</td>\n",
       "      <td>...</td>\n",
       "      <td>NaN</td>\n",
       "      <td>NaN</td>\n",
       "      <td>NaN</td>\n",
       "      <td>NaN</td>\n",
       "      <td>NaN</td>\n",
       "      <td>NaN</td>\n",
       "      <td>NaN</td>\n",
       "      <td>NaN</td>\n",
       "      <td>NaN</td>\n",
       "      <td>NaN</td>\n",
       "    </tr>\n",
       "    <tr>\n",
       "      <th>3</th>\n",
       "      <td>IND</td>\n",
       "      <td>India</td>\n",
       "      <td>AGARTALA GT</td>\n",
       "      <td>IND0000001</td>\n",
       "      <td>135.0</td>\n",
       "      <td>23.8712</td>\n",
       "      <td>91.3602</td>\n",
       "      <td>Gas</td>\n",
       "      <td>NaN</td>\n",
       "      <td>NaN</td>\n",
       "      <td>...</td>\n",
       "      <td>2019.0</td>\n",
       "      <td>NaN</td>\n",
       "      <td>617.789264</td>\n",
       "      <td>843.747000</td>\n",
       "      <td>886.004428</td>\n",
       "      <td>663.774500</td>\n",
       "      <td>626.239128</td>\n",
       "      <td>NaN</td>\n",
       "      <td>Central Electricity Authority</td>\n",
       "      <td>NaN</td>\n",
       "    </tr>\n",
       "    <tr>\n",
       "      <th>4</th>\n",
       "      <td>IND</td>\n",
       "      <td>India</td>\n",
       "      <td>AKALTARA TPP</td>\n",
       "      <td>IND0000002</td>\n",
       "      <td>1800.0</td>\n",
       "      <td>21.9603</td>\n",
       "      <td>82.4091</td>\n",
       "      <td>Coal</td>\n",
       "      <td>Oil</td>\n",
       "      <td>NaN</td>\n",
       "      <td>...</td>\n",
       "      <td>2019.0</td>\n",
       "      <td>NaN</td>\n",
       "      <td>3035.550000</td>\n",
       "      <td>5916.370000</td>\n",
       "      <td>6243.000000</td>\n",
       "      <td>5385.579736</td>\n",
       "      <td>7279.000000</td>\n",
       "      <td>NaN</td>\n",
       "      <td>Central Electricity Authority</td>\n",
       "      <td>NaN</td>\n",
       "    </tr>\n",
       "    <tr>\n",
       "      <th>...</th>\n",
       "      <td>...</td>\n",
       "      <td>...</td>\n",
       "      <td>...</td>\n",
       "      <td>...</td>\n",
       "      <td>...</td>\n",
       "      <td>...</td>\n",
       "      <td>...</td>\n",
       "      <td>...</td>\n",
       "      <td>...</td>\n",
       "      <td>...</td>\n",
       "      <td>...</td>\n",
       "      <td>...</td>\n",
       "      <td>...</td>\n",
       "      <td>...</td>\n",
       "      <td>...</td>\n",
       "      <td>...</td>\n",
       "      <td>...</td>\n",
       "      <td>...</td>\n",
       "      <td>...</td>\n",
       "      <td>...</td>\n",
       "      <td>...</td>\n",
       "    </tr>\n",
       "    <tr>\n",
       "      <th>902</th>\n",
       "      <td>IND</td>\n",
       "      <td>India</td>\n",
       "      <td>YERMARUS TPP</td>\n",
       "      <td>IND0000513</td>\n",
       "      <td>1600.0</td>\n",
       "      <td>16.2949</td>\n",
       "      <td>77.3568</td>\n",
       "      <td>Coal</td>\n",
       "      <td>Oil</td>\n",
       "      <td>NaN</td>\n",
       "      <td>...</td>\n",
       "      <td>2019.0</td>\n",
       "      <td>NaN</td>\n",
       "      <td>NaN</td>\n",
       "      <td>0.994875</td>\n",
       "      <td>233.596650</td>\n",
       "      <td>865.400000</td>\n",
       "      <td>686.500000</td>\n",
       "      <td>NaN</td>\n",
       "      <td>Central Electricity Authority</td>\n",
       "      <td>NaN</td>\n",
       "    </tr>\n",
       "    <tr>\n",
       "      <th>903</th>\n",
       "      <td>IND</td>\n",
       "      <td>India</td>\n",
       "      <td>Yelesandra Solar Power Plant</td>\n",
       "      <td>WRI1026222</td>\n",
       "      <td>3.0</td>\n",
       "      <td>12.8932</td>\n",
       "      <td>78.1654</td>\n",
       "      <td>Solar</td>\n",
       "      <td>NaN</td>\n",
       "      <td>NaN</td>\n",
       "      <td>...</td>\n",
       "      <td>NaN</td>\n",
       "      <td>NaN</td>\n",
       "      <td>NaN</td>\n",
       "      <td>NaN</td>\n",
       "      <td>NaN</td>\n",
       "      <td>NaN</td>\n",
       "      <td>NaN</td>\n",
       "      <td>NaN</td>\n",
       "      <td>NaN</td>\n",
       "      <td>NaN</td>\n",
       "    </tr>\n",
       "    <tr>\n",
       "      <th>904</th>\n",
       "      <td>IND</td>\n",
       "      <td>India</td>\n",
       "      <td>Yelisirur wind power project</td>\n",
       "      <td>WRI1026776</td>\n",
       "      <td>25.5</td>\n",
       "      <td>15.2758</td>\n",
       "      <td>75.5811</td>\n",
       "      <td>Wind</td>\n",
       "      <td>NaN</td>\n",
       "      <td>NaN</td>\n",
       "      <td>...</td>\n",
       "      <td>NaN</td>\n",
       "      <td>NaN</td>\n",
       "      <td>NaN</td>\n",
       "      <td>NaN</td>\n",
       "      <td>NaN</td>\n",
       "      <td>NaN</td>\n",
       "      <td>NaN</td>\n",
       "      <td>NaN</td>\n",
       "      <td>NaN</td>\n",
       "      <td>NaN</td>\n",
       "    </tr>\n",
       "    <tr>\n",
       "      <th>905</th>\n",
       "      <td>IND</td>\n",
       "      <td>India</td>\n",
       "      <td>ZAWAR MINES</td>\n",
       "      <td>WRI1019901</td>\n",
       "      <td>80.0</td>\n",
       "      <td>24.3500</td>\n",
       "      <td>73.7477</td>\n",
       "      <td>Coal</td>\n",
       "      <td>NaN</td>\n",
       "      <td>NaN</td>\n",
       "      <td>...</td>\n",
       "      <td>NaN</td>\n",
       "      <td>NaN</td>\n",
       "      <td>NaN</td>\n",
       "      <td>NaN</td>\n",
       "      <td>NaN</td>\n",
       "      <td>NaN</td>\n",
       "      <td>NaN</td>\n",
       "      <td>NaN</td>\n",
       "      <td>NaN</td>\n",
       "      <td>NaN</td>\n",
       "    </tr>\n",
       "    <tr>\n",
       "      <th>906</th>\n",
       "      <td>IND</td>\n",
       "      <td>India</td>\n",
       "      <td>iEnergy Theni Wind Farm</td>\n",
       "      <td>WRI1026761</td>\n",
       "      <td>16.5</td>\n",
       "      <td>9.9344</td>\n",
       "      <td>77.4768</td>\n",
       "      <td>Wind</td>\n",
       "      <td>NaN</td>\n",
       "      <td>NaN</td>\n",
       "      <td>...</td>\n",
       "      <td>NaN</td>\n",
       "      <td>NaN</td>\n",
       "      <td>NaN</td>\n",
       "      <td>NaN</td>\n",
       "      <td>NaN</td>\n",
       "      <td>NaN</td>\n",
       "      <td>NaN</td>\n",
       "      <td>NaN</td>\n",
       "      <td>NaN</td>\n",
       "      <td>NaN</td>\n",
       "    </tr>\n",
       "  </tbody>\n",
       "</table>\n",
       "<p>907 rows × 27 columns</p>\n",
       "</div>"
      ],
      "text/plain": [
       "    country country_long                          name   gppd_idnr  \\\n",
       "0       IND        India              ACME Solar Tower  WRI1020239   \n",
       "1       IND        India           ADITYA CEMENT WORKS  WRI1019881   \n",
       "2       IND        India      AES Saurashtra Windfarms  WRI1026669   \n",
       "3       IND        India                   AGARTALA GT  IND0000001   \n",
       "4       IND        India                  AKALTARA TPP  IND0000002   \n",
       "..      ...          ...                           ...         ...   \n",
       "902     IND        India                  YERMARUS TPP  IND0000513   \n",
       "903     IND        India  Yelesandra Solar Power Plant  WRI1026222   \n",
       "904     IND        India  Yelisirur wind power project  WRI1026776   \n",
       "905     IND        India                   ZAWAR MINES  WRI1019901   \n",
       "906     IND        India       iEnergy Theni Wind Farm  WRI1026761   \n",
       "\n",
       "     capacity_mw  latitude  longitude primary_fuel other_fuel1 other_fuel2  \\\n",
       "0            2.5   28.1839    73.2407        Solar         NaN         NaN   \n",
       "1           98.0   24.7663    74.6090         Coal         NaN         NaN   \n",
       "2           39.2   21.9038    69.3732         Wind         NaN         NaN   \n",
       "3          135.0   23.8712    91.3602          Gas         NaN         NaN   \n",
       "4         1800.0   21.9603    82.4091         Coal         Oil         NaN   \n",
       "..           ...       ...        ...          ...         ...         ...   \n",
       "902       1600.0   16.2949    77.3568         Coal         Oil         NaN   \n",
       "903          3.0   12.8932    78.1654        Solar         NaN         NaN   \n",
       "904         25.5   15.2758    75.5811         Wind         NaN         NaN   \n",
       "905         80.0   24.3500    73.7477         Coal         NaN         NaN   \n",
       "906         16.5    9.9344    77.4768         Wind         NaN         NaN   \n",
       "\n",
       "     ...  year_of_capacity_data  generation_gwh_2013 generation_gwh_2014  \\\n",
       "0    ...                    NaN                  NaN                 NaN   \n",
       "1    ...                    NaN                  NaN                 NaN   \n",
       "2    ...                    NaN                  NaN                 NaN   \n",
       "3    ...                 2019.0                  NaN          617.789264   \n",
       "4    ...                 2019.0                  NaN         3035.550000   \n",
       "..   ...                    ...                  ...                 ...   \n",
       "902  ...                 2019.0                  NaN                 NaN   \n",
       "903  ...                    NaN                  NaN                 NaN   \n",
       "904  ...                    NaN                  NaN                 NaN   \n",
       "905  ...                    NaN                  NaN                 NaN   \n",
       "906  ...                    NaN                  NaN                 NaN   \n",
       "\n",
       "    generation_gwh_2015 generation_gwh_2016 generation_gwh_2017  \\\n",
       "0                   NaN                 NaN                 NaN   \n",
       "1                   NaN                 NaN                 NaN   \n",
       "2                   NaN                 NaN                 NaN   \n",
       "3            843.747000          886.004428          663.774500   \n",
       "4           5916.370000         6243.000000         5385.579736   \n",
       "..                  ...                 ...                 ...   \n",
       "902            0.994875          233.596650          865.400000   \n",
       "903                 NaN                 NaN                 NaN   \n",
       "904                 NaN                 NaN                 NaN   \n",
       "905                 NaN                 NaN                 NaN   \n",
       "906                 NaN                 NaN                 NaN   \n",
       "\n",
       "     generation_gwh_2018  generation_gwh_2019         generation_data_source  \\\n",
       "0                    NaN                  NaN                            NaN   \n",
       "1                    NaN                  NaN                            NaN   \n",
       "2                    NaN                  NaN                            NaN   \n",
       "3             626.239128                  NaN  Central Electricity Authority   \n",
       "4            7279.000000                  NaN  Central Electricity Authority   \n",
       "..                   ...                  ...                            ...   \n",
       "902           686.500000                  NaN  Central Electricity Authority   \n",
       "903                  NaN                  NaN                            NaN   \n",
       "904                  NaN                  NaN                            NaN   \n",
       "905                  NaN                  NaN                            NaN   \n",
       "906                  NaN                  NaN                            NaN   \n",
       "\n",
       "     estimated_generation_gwh  \n",
       "0                         NaN  \n",
       "1                         NaN  \n",
       "2                         NaN  \n",
       "3                         NaN  \n",
       "4                         NaN  \n",
       "..                        ...  \n",
       "902                       NaN  \n",
       "903                       NaN  \n",
       "904                       NaN  \n",
       "905                       NaN  \n",
       "906                       NaN  \n",
       "\n",
       "[907 rows x 27 columns]"
      ]
     },
     "execution_count": 81,
     "metadata": {},
     "output_type": "execute_result"
    }
   ],
   "source": [
    "df"
   ]
  },
  {
   "cell_type": "code",
   "execution_count": 82,
   "id": "33ecb3b7",
   "metadata": {},
   "outputs": [
    {
     "data": {
      "text/plain": [
       "Index(['country', 'country_long', 'name', 'gppd_idnr', 'capacity_mw',\n",
       "       'latitude', 'longitude', 'primary_fuel', 'other_fuel1', 'other_fuel2',\n",
       "       'other_fuel3', 'commissioning_year', 'owner', 'source', 'url',\n",
       "       'geolocation_source', 'wepp_id', 'year_of_capacity_data',\n",
       "       'generation_gwh_2013', 'generation_gwh_2014', 'generation_gwh_2015',\n",
       "       'generation_gwh_2016', 'generation_gwh_2017', 'generation_gwh_2018',\n",
       "       'generation_gwh_2019', 'generation_data_source',\n",
       "       'estimated_generation_gwh'],\n",
       "      dtype='object')"
      ]
     },
     "execution_count": 82,
     "metadata": {},
     "output_type": "execute_result"
    }
   ],
   "source": [
    "df.columns"
   ]
  },
  {
   "cell_type": "code",
   "execution_count": 83,
   "id": "519c159f",
   "metadata": {},
   "outputs": [
    {
     "data": {
      "text/html": [
       "<div>\n",
       "<style scoped>\n",
       "    .dataframe tbody tr th:only-of-type {\n",
       "        vertical-align: middle;\n",
       "    }\n",
       "\n",
       "    .dataframe tbody tr th {\n",
       "        vertical-align: top;\n",
       "    }\n",
       "\n",
       "    .dataframe thead th {\n",
       "        text-align: right;\n",
       "    }\n",
       "</style>\n",
       "<table border=\"1\" class=\"dataframe\">\n",
       "  <thead>\n",
       "    <tr style=\"text-align: right;\">\n",
       "      <th></th>\n",
       "      <th>country</th>\n",
       "      <th>country_long</th>\n",
       "      <th>name</th>\n",
       "      <th>gppd_idnr</th>\n",
       "      <th>capacity_mw</th>\n",
       "      <th>latitude</th>\n",
       "      <th>longitude</th>\n",
       "      <th>primary_fuel</th>\n",
       "      <th>other_fuel1</th>\n",
       "      <th>other_fuel2</th>\n",
       "      <th>...</th>\n",
       "      <th>year_of_capacity_data</th>\n",
       "      <th>generation_gwh_2013</th>\n",
       "      <th>generation_gwh_2014</th>\n",
       "      <th>generation_gwh_2015</th>\n",
       "      <th>generation_gwh_2016</th>\n",
       "      <th>generation_gwh_2017</th>\n",
       "      <th>generation_gwh_2018</th>\n",
       "      <th>generation_gwh_2019</th>\n",
       "      <th>generation_data_source</th>\n",
       "      <th>estimated_generation_gwh</th>\n",
       "    </tr>\n",
       "  </thead>\n",
       "  <tbody>\n",
       "    <tr>\n",
       "      <th>0</th>\n",
       "      <td>IND</td>\n",
       "      <td>India</td>\n",
       "      <td>ACME Solar Tower</td>\n",
       "      <td>WRI1020239</td>\n",
       "      <td>2.5</td>\n",
       "      <td>28.1839</td>\n",
       "      <td>73.2407</td>\n",
       "      <td>Solar</td>\n",
       "      <td>NaN</td>\n",
       "      <td>NaN</td>\n",
       "      <td>...</td>\n",
       "      <td>NaN</td>\n",
       "      <td>NaN</td>\n",
       "      <td>NaN</td>\n",
       "      <td>NaN</td>\n",
       "      <td>NaN</td>\n",
       "      <td>NaN</td>\n",
       "      <td>NaN</td>\n",
       "      <td>NaN</td>\n",
       "      <td>NaN</td>\n",
       "      <td>NaN</td>\n",
       "    </tr>\n",
       "    <tr>\n",
       "      <th>1</th>\n",
       "      <td>IND</td>\n",
       "      <td>India</td>\n",
       "      <td>ADITYA CEMENT WORKS</td>\n",
       "      <td>WRI1019881</td>\n",
       "      <td>98.0</td>\n",
       "      <td>24.7663</td>\n",
       "      <td>74.6090</td>\n",
       "      <td>Coal</td>\n",
       "      <td>NaN</td>\n",
       "      <td>NaN</td>\n",
       "      <td>...</td>\n",
       "      <td>NaN</td>\n",
       "      <td>NaN</td>\n",
       "      <td>NaN</td>\n",
       "      <td>NaN</td>\n",
       "      <td>NaN</td>\n",
       "      <td>NaN</td>\n",
       "      <td>NaN</td>\n",
       "      <td>NaN</td>\n",
       "      <td>NaN</td>\n",
       "      <td>NaN</td>\n",
       "    </tr>\n",
       "    <tr>\n",
       "      <th>2</th>\n",
       "      <td>IND</td>\n",
       "      <td>India</td>\n",
       "      <td>AES Saurashtra Windfarms</td>\n",
       "      <td>WRI1026669</td>\n",
       "      <td>39.2</td>\n",
       "      <td>21.9038</td>\n",
       "      <td>69.3732</td>\n",
       "      <td>Wind</td>\n",
       "      <td>NaN</td>\n",
       "      <td>NaN</td>\n",
       "      <td>...</td>\n",
       "      <td>NaN</td>\n",
       "      <td>NaN</td>\n",
       "      <td>NaN</td>\n",
       "      <td>NaN</td>\n",
       "      <td>NaN</td>\n",
       "      <td>NaN</td>\n",
       "      <td>NaN</td>\n",
       "      <td>NaN</td>\n",
       "      <td>NaN</td>\n",
       "      <td>NaN</td>\n",
       "    </tr>\n",
       "    <tr>\n",
       "      <th>3</th>\n",
       "      <td>IND</td>\n",
       "      <td>India</td>\n",
       "      <td>AGARTALA GT</td>\n",
       "      <td>IND0000001</td>\n",
       "      <td>135.0</td>\n",
       "      <td>23.8712</td>\n",
       "      <td>91.3602</td>\n",
       "      <td>Gas</td>\n",
       "      <td>NaN</td>\n",
       "      <td>NaN</td>\n",
       "      <td>...</td>\n",
       "      <td>2019.0</td>\n",
       "      <td>NaN</td>\n",
       "      <td>617.789264</td>\n",
       "      <td>843.747</td>\n",
       "      <td>886.004428</td>\n",
       "      <td>663.774500</td>\n",
       "      <td>626.239128</td>\n",
       "      <td>NaN</td>\n",
       "      <td>Central Electricity Authority</td>\n",
       "      <td>NaN</td>\n",
       "    </tr>\n",
       "    <tr>\n",
       "      <th>4</th>\n",
       "      <td>IND</td>\n",
       "      <td>India</td>\n",
       "      <td>AKALTARA TPP</td>\n",
       "      <td>IND0000002</td>\n",
       "      <td>1800.0</td>\n",
       "      <td>21.9603</td>\n",
       "      <td>82.4091</td>\n",
       "      <td>Coal</td>\n",
       "      <td>Oil</td>\n",
       "      <td>NaN</td>\n",
       "      <td>...</td>\n",
       "      <td>2019.0</td>\n",
       "      <td>NaN</td>\n",
       "      <td>3035.550000</td>\n",
       "      <td>5916.370</td>\n",
       "      <td>6243.000000</td>\n",
       "      <td>5385.579736</td>\n",
       "      <td>7279.000000</td>\n",
       "      <td>NaN</td>\n",
       "      <td>Central Electricity Authority</td>\n",
       "      <td>NaN</td>\n",
       "    </tr>\n",
       "  </tbody>\n",
       "</table>\n",
       "<p>5 rows × 27 columns</p>\n",
       "</div>"
      ],
      "text/plain": [
       "  country country_long                      name   gppd_idnr  capacity_mw  \\\n",
       "0     IND        India          ACME Solar Tower  WRI1020239          2.5   \n",
       "1     IND        India       ADITYA CEMENT WORKS  WRI1019881         98.0   \n",
       "2     IND        India  AES Saurashtra Windfarms  WRI1026669         39.2   \n",
       "3     IND        India               AGARTALA GT  IND0000001        135.0   \n",
       "4     IND        India              AKALTARA TPP  IND0000002       1800.0   \n",
       "\n",
       "   latitude  longitude primary_fuel other_fuel1 other_fuel2  ...  \\\n",
       "0   28.1839    73.2407        Solar         NaN         NaN  ...   \n",
       "1   24.7663    74.6090         Coal         NaN         NaN  ...   \n",
       "2   21.9038    69.3732         Wind         NaN         NaN  ...   \n",
       "3   23.8712    91.3602          Gas         NaN         NaN  ...   \n",
       "4   21.9603    82.4091         Coal         Oil         NaN  ...   \n",
       "\n",
       "   year_of_capacity_data  generation_gwh_2013 generation_gwh_2014  \\\n",
       "0                    NaN                  NaN                 NaN   \n",
       "1                    NaN                  NaN                 NaN   \n",
       "2                    NaN                  NaN                 NaN   \n",
       "3                 2019.0                  NaN          617.789264   \n",
       "4                 2019.0                  NaN         3035.550000   \n",
       "\n",
       "  generation_gwh_2015 generation_gwh_2016 generation_gwh_2017  \\\n",
       "0                 NaN                 NaN                 NaN   \n",
       "1                 NaN                 NaN                 NaN   \n",
       "2                 NaN                 NaN                 NaN   \n",
       "3             843.747          886.004428          663.774500   \n",
       "4            5916.370         6243.000000         5385.579736   \n",
       "\n",
       "   generation_gwh_2018  generation_gwh_2019         generation_data_source  \\\n",
       "0                  NaN                  NaN                            NaN   \n",
       "1                  NaN                  NaN                            NaN   \n",
       "2                  NaN                  NaN                            NaN   \n",
       "3           626.239128                  NaN  Central Electricity Authority   \n",
       "4          7279.000000                  NaN  Central Electricity Authority   \n",
       "\n",
       "   estimated_generation_gwh  \n",
       "0                       NaN  \n",
       "1                       NaN  \n",
       "2                       NaN  \n",
       "3                       NaN  \n",
       "4                       NaN  \n",
       "\n",
       "[5 rows x 27 columns]"
      ]
     },
     "execution_count": 83,
     "metadata": {},
     "output_type": "execute_result"
    }
   ],
   "source": [
    "df.head()"
   ]
  },
  {
   "cell_type": "code",
   "execution_count": 84,
   "id": "484e7365",
   "metadata": {},
   "outputs": [
    {
     "data": {
      "text/plain": [
       "country                       0\n",
       "country_long                  0\n",
       "name                          0\n",
       "gppd_idnr                     0\n",
       "capacity_mw                   0\n",
       "latitude                     46\n",
       "longitude                    46\n",
       "primary_fuel                  0\n",
       "other_fuel1                 709\n",
       "other_fuel2                 906\n",
       "other_fuel3                 907\n",
       "commissioning_year          380\n",
       "owner                       565\n",
       "source                        0\n",
       "url                           0\n",
       "geolocation_source           19\n",
       "wepp_id                     907\n",
       "year_of_capacity_data       388\n",
       "generation_gwh_2013         907\n",
       "generation_gwh_2014         509\n",
       "generation_gwh_2015         485\n",
       "generation_gwh_2016         473\n",
       "generation_gwh_2017         467\n",
       "generation_gwh_2018         459\n",
       "generation_gwh_2019         907\n",
       "generation_data_source      458\n",
       "estimated_generation_gwh    907\n",
       "dtype: int64"
      ]
     },
     "execution_count": 84,
     "metadata": {},
     "output_type": "execute_result"
    }
   ],
   "source": [
    "df.isnull().sum()"
   ]
  },
  {
   "cell_type": "code",
   "execution_count": 85,
   "id": "d247ec74",
   "metadata": {},
   "outputs": [
    {
     "data": {
      "text/plain": [
       "Index(['country', 'country_long', 'name', 'gppd_idnr', 'capacity_mw',\n",
       "       'latitude', 'longitude', 'primary_fuel', 'other_fuel1', 'other_fuel2',\n",
       "       'other_fuel3', 'commissioning_year', 'owner', 'source', 'url',\n",
       "       'geolocation_source', 'wepp_id', 'year_of_capacity_data',\n",
       "       'generation_gwh_2013', 'generation_gwh_2014', 'generation_gwh_2015',\n",
       "       'generation_gwh_2016', 'generation_gwh_2017', 'generation_gwh_2018',\n",
       "       'generation_gwh_2019', 'generation_data_source',\n",
       "       'estimated_generation_gwh'],\n",
       "      dtype='object')"
      ]
     },
     "execution_count": 85,
     "metadata": {},
     "output_type": "execute_result"
    }
   ],
   "source": [
    "df.columns"
   ]
  },
  {
   "cell_type": "code",
   "execution_count": 86,
   "id": "a4ee2d3f",
   "metadata": {},
   "outputs": [
    {
     "data": {
      "text/plain": [
       "str"
      ]
     },
     "execution_count": 86,
     "metadata": {},
     "output_type": "execute_result"
    }
   ],
   "source": [
    "a = '12'\n",
    "type(a)"
   ]
  },
  {
   "cell_type": "code",
   "execution_count": 87,
   "id": "4dcf0ac6",
   "metadata": {},
   "outputs": [
    {
     "data": {
      "text/plain": [
       "float"
      ]
     },
     "execution_count": 87,
     "metadata": {},
     "output_type": "execute_result"
    }
   ],
   "source": [
    "b=12.0\n",
    "type(b)"
   ]
  },
  {
   "cell_type": "code",
   "execution_count": 88,
   "id": "8f0d1c0e",
   "metadata": {},
   "outputs": [
    {
     "data": {
      "text/plain": [
       "int"
      ]
     },
     "execution_count": 88,
     "metadata": {},
     "output_type": "execute_result"
    }
   ],
   "source": [
    "# figure in rupees\n",
    "price='200'\n",
    "#type(price)\n",
    "\n",
    "f = int(price)\n",
    "type(f)"
   ]
  },
  {
   "cell_type": "code",
   "execution_count": 89,
   "id": "2e897edf",
   "metadata": {},
   "outputs": [
    {
     "data": {
      "text/plain": [
       "country                      object\n",
       "country_long                 object\n",
       "name                         object\n",
       "gppd_idnr                    object\n",
       "capacity_mw                 float64\n",
       "latitude                    float64\n",
       "longitude                   float64\n",
       "primary_fuel                 object\n",
       "other_fuel1                  object\n",
       "other_fuel2                  object\n",
       "other_fuel3                 float64\n",
       "commissioning_year          float64\n",
       "owner                        object\n",
       "source                       object\n",
       "url                          object\n",
       "geolocation_source           object\n",
       "wepp_id                     float64\n",
       "year_of_capacity_data       float64\n",
       "generation_gwh_2013         float64\n",
       "generation_gwh_2014         float64\n",
       "generation_gwh_2015         float64\n",
       "generation_gwh_2016         float64\n",
       "generation_gwh_2017         float64\n",
       "generation_gwh_2018         float64\n",
       "generation_gwh_2019         float64\n",
       "generation_data_source       object\n",
       "estimated_generation_gwh    float64\n",
       "dtype: object"
      ]
     },
     "execution_count": 89,
     "metadata": {},
     "output_type": "execute_result"
    }
   ],
   "source": [
    "df.dtypes"
   ]
  },
  {
   "cell_type": "code",
   "execution_count": 90,
   "id": "06da6726",
   "metadata": {},
   "outputs": [
    {
     "data": {
      "text/plain": [
       "array([nan, 'Central Electricity Authority'], dtype=object)"
      ]
     },
     "execution_count": 90,
     "metadata": {},
     "output_type": "execute_result"
    }
   ],
   "source": [
    "df['generation_data_source'].unique()"
   ]
  },
  {
   "cell_type": "code",
   "execution_count": 91,
   "id": "873d4fb2",
   "metadata": {},
   "outputs": [
    {
     "data": {
      "text/plain": [
       "1"
      ]
     },
     "execution_count": 91,
     "metadata": {},
     "output_type": "execute_result"
    }
   ],
   "source": [
    "df['generation_data_source'].nunique()"
   ]
  },
  {
   "cell_type": "code",
   "execution_count": 92,
   "id": "5d772850",
   "metadata": {},
   "outputs": [
    {
     "data": {
      "text/plain": [
       "array([2011.,   nan, 2004., 2015., 2005., 1970., 2010., 2008., 2014.,\n",
       "       1985., 1986., 1987., 2000., 1989., 2017., 1977., 1980., 2003.,\n",
       "       1984., 1976., 1996., 1991., 2002., 2001., 2006., 2007., 1988.,\n",
       "       1973., 2012., 1968., 1964., 2016., 2013., 1962., 1998., 1993.,\n",
       "       1997., 1999., 1994., 1975., 1992., 1972., 1979., 1967., 1995.,\n",
       "       1983., 1981., 2018., 1959., 1961., 1957., 1978., 1963., 1971.,\n",
       "       1955., 2009., 1966., 1965., 1960., 1949., 1952., 1990., 1982.,\n",
       "       1937., 1956., 1946., 1958., 1943., 1954., 1969., 1939., 1927.,\n",
       "       1974., 1953.])"
      ]
     },
     "execution_count": 92,
     "metadata": {},
     "output_type": "execute_result"
    }
   ],
   "source": [
    "df[\"commissioning_year\"].unique()"
   ]
  },
  {
   "cell_type": "code",
   "execution_count": 93,
   "id": "f850c1f4",
   "metadata": {},
   "outputs": [
    {
     "data": {
      "text/plain": [
       "907"
      ]
     },
     "execution_count": 93,
     "metadata": {},
     "output_type": "execute_result"
    }
   ],
   "source": [
    "df.shape[0]"
   ]
  },
  {
   "cell_type": "code",
   "execution_count": 94,
   "id": "16c1d475",
   "metadata": {},
   "outputs": [
    {
     "data": {
      "text/html": [
       "<div>\n",
       "<style scoped>\n",
       "    .dataframe tbody tr th:only-of-type {\n",
       "        vertical-align: middle;\n",
       "    }\n",
       "\n",
       "    .dataframe tbody tr th {\n",
       "        vertical-align: top;\n",
       "    }\n",
       "\n",
       "    .dataframe thead th {\n",
       "        text-align: right;\n",
       "    }\n",
       "</style>\n",
       "<table border=\"1\" class=\"dataframe\">\n",
       "  <thead>\n",
       "    <tr style=\"text-align: right;\">\n",
       "      <th></th>\n",
       "      <th>country</th>\n",
       "      <th>country_long</th>\n",
       "      <th>name</th>\n",
       "      <th>gppd_idnr</th>\n",
       "      <th>capacity_mw</th>\n",
       "      <th>latitude</th>\n",
       "      <th>longitude</th>\n",
       "      <th>primary_fuel</th>\n",
       "      <th>other_fuel1</th>\n",
       "      <th>other_fuel2</th>\n",
       "      <th>...</th>\n",
       "      <th>year_of_capacity_data</th>\n",
       "      <th>generation_gwh_2013</th>\n",
       "      <th>generation_gwh_2014</th>\n",
       "      <th>generation_gwh_2015</th>\n",
       "      <th>generation_gwh_2016</th>\n",
       "      <th>generation_gwh_2017</th>\n",
       "      <th>generation_gwh_2018</th>\n",
       "      <th>generation_gwh_2019</th>\n",
       "      <th>generation_data_source</th>\n",
       "      <th>estimated_generation_gwh</th>\n",
       "    </tr>\n",
       "  </thead>\n",
       "  <tbody>\n",
       "  </tbody>\n",
       "</table>\n",
       "<p>0 rows × 27 columns</p>\n",
       "</div>"
      ],
      "text/plain": [
       "Empty DataFrame\n",
       "Columns: [country, country_long, name, gppd_idnr, capacity_mw, latitude, longitude, primary_fuel, other_fuel1, other_fuel2, other_fuel3, commissioning_year, owner, source, url, geolocation_source, wepp_id, year_of_capacity_data, generation_gwh_2013, generation_gwh_2014, generation_gwh_2015, generation_gwh_2016, generation_gwh_2017, generation_gwh_2018, generation_gwh_2019, generation_data_source, estimated_generation_gwh]\n",
       "Index: []\n",
       "\n",
       "[0 rows x 27 columns]"
      ]
     },
     "execution_count": 94,
     "metadata": {},
     "output_type": "execute_result"
    }
   ],
   "source": [
    "df.loc[df['generation_data_source']== \" \"]"
   ]
  },
  {
   "cell_type": "code",
   "execution_count": 95,
   "id": "fad60341",
   "metadata": {},
   "outputs": [],
   "source": [
    "df[\"generation_data_source\"]=df[\"generation_data_source\"].replace(\" \",np.nan)"
   ]
  },
  {
   "cell_type": "code",
   "execution_count": 96,
   "id": "5b512dba",
   "metadata": {},
   "outputs": [
    {
     "data": {
      "text/plain": [
       "country                       0\n",
       "country_long                  0\n",
       "name                          0\n",
       "gppd_idnr                     0\n",
       "capacity_mw                   0\n",
       "latitude                     46\n",
       "longitude                    46\n",
       "primary_fuel                  0\n",
       "other_fuel1                 709\n",
       "other_fuel2                 906\n",
       "other_fuel3                 907\n",
       "commissioning_year          380\n",
       "owner                       565\n",
       "source                        0\n",
       "url                           0\n",
       "geolocation_source           19\n",
       "wepp_id                     907\n",
       "year_of_capacity_data       388\n",
       "generation_gwh_2013         907\n",
       "generation_gwh_2014         509\n",
       "generation_gwh_2015         485\n",
       "generation_gwh_2016         473\n",
       "generation_gwh_2017         467\n",
       "generation_gwh_2018         459\n",
       "generation_gwh_2019         907\n",
       "generation_data_source      458\n",
       "estimated_generation_gwh    907\n",
       "dtype: int64"
      ]
     },
     "execution_count": 96,
     "metadata": {},
     "output_type": "execute_result"
    }
   ],
   "source": [
    "df.isnull().sum()"
   ]
  },
  {
   "cell_type": "code",
   "execution_count": 97,
   "id": "335151c4",
   "metadata": {},
   "outputs": [
    {
     "ename": "TypeError",
     "evalue": "unsupported operand type(s) for +: 'int' and 'str'",
     "output_type": "error",
     "traceback": [
      "\u001b[1;31m---------------------------------------------------------------------------\u001b[0m",
      "\u001b[1;31mTypeError\u001b[0m                                 Traceback (most recent call last)",
      "Input \u001b[1;32mIn [97]\u001b[0m, in \u001b[0;36m<cell line: 1>\u001b[1;34m()\u001b[0m\n\u001b[1;32m----> 1\u001b[0m \u001b[43mnp\u001b[49m\u001b[38;5;241;43m.\u001b[39;49m\u001b[43mmean\u001b[49m\u001b[43m(\u001b[49m\u001b[43mdf\u001b[49m\u001b[43m[\u001b[49m\u001b[38;5;124;43m\"\u001b[39;49m\u001b[38;5;124;43mgeneration_data_source\u001b[39;49m\u001b[38;5;124;43m\"\u001b[39;49m\u001b[43m]\u001b[49m\u001b[43m)\u001b[49m\n",
      "File \u001b[1;32m<__array_function__ internals>:5\u001b[0m, in \u001b[0;36mmean\u001b[1;34m(*args, **kwargs)\u001b[0m\n",
      "File \u001b[1;32m~\\anaconda3\\lib\\site-packages\\numpy\\core\\fromnumeric.py:3438\u001b[0m, in \u001b[0;36mmean\u001b[1;34m(a, axis, dtype, out, keepdims, where)\u001b[0m\n\u001b[0;32m   3436\u001b[0m         \u001b[38;5;28;01mpass\u001b[39;00m\n\u001b[0;32m   3437\u001b[0m     \u001b[38;5;28;01melse\u001b[39;00m:\n\u001b[1;32m-> 3438\u001b[0m         \u001b[38;5;28;01mreturn\u001b[39;00m mean(axis\u001b[38;5;241m=\u001b[39maxis, dtype\u001b[38;5;241m=\u001b[39mdtype, out\u001b[38;5;241m=\u001b[39mout, \u001b[38;5;241m*\u001b[39m\u001b[38;5;241m*\u001b[39mkwargs)\n\u001b[0;32m   3440\u001b[0m \u001b[38;5;28;01mreturn\u001b[39;00m _methods\u001b[38;5;241m.\u001b[39m_mean(a, axis\u001b[38;5;241m=\u001b[39maxis, dtype\u001b[38;5;241m=\u001b[39mdtype,\n\u001b[0;32m   3441\u001b[0m                       out\u001b[38;5;241m=\u001b[39mout, \u001b[38;5;241m*\u001b[39m\u001b[38;5;241m*\u001b[39mkwargs)\n",
      "File \u001b[1;32m~\\anaconda3\\lib\\site-packages\\pandas\\core\\generic.py:11117\u001b[0m, in \u001b[0;36mNDFrame._add_numeric_operations.<locals>.mean\u001b[1;34m(self, axis, skipna, level, numeric_only, **kwargs)\u001b[0m\n\u001b[0;32m  11099\u001b[0m \u001b[38;5;129m@doc\u001b[39m(\n\u001b[0;32m  11100\u001b[0m     _num_doc,\n\u001b[0;32m  11101\u001b[0m     desc\u001b[38;5;241m=\u001b[39m\u001b[38;5;124m\"\u001b[39m\u001b[38;5;124mReturn the mean of the values over the requested axis.\u001b[39m\u001b[38;5;124m\"\u001b[39m,\n\u001b[1;32m   (...)\u001b[0m\n\u001b[0;32m  11115\u001b[0m     \u001b[38;5;241m*\u001b[39m\u001b[38;5;241m*\u001b[39mkwargs,\n\u001b[0;32m  11116\u001b[0m ):\n\u001b[1;32m> 11117\u001b[0m     \u001b[38;5;28;01mreturn\u001b[39;00m NDFrame\u001b[38;5;241m.\u001b[39mmean(\u001b[38;5;28mself\u001b[39m, axis, skipna, level, numeric_only, \u001b[38;5;241m*\u001b[39m\u001b[38;5;241m*\u001b[39mkwargs)\n",
      "File \u001b[1;32m~\\anaconda3\\lib\\site-packages\\pandas\\core\\generic.py:10687\u001b[0m, in \u001b[0;36mNDFrame.mean\u001b[1;34m(self, axis, skipna, level, numeric_only, **kwargs)\u001b[0m\n\u001b[0;32m  10679\u001b[0m \u001b[38;5;28;01mdef\u001b[39;00m \u001b[38;5;21mmean\u001b[39m(\n\u001b[0;32m  10680\u001b[0m     \u001b[38;5;28mself\u001b[39m,\n\u001b[0;32m  10681\u001b[0m     axis: Axis \u001b[38;5;241m|\u001b[39m \u001b[38;5;28;01mNone\u001b[39;00m \u001b[38;5;241m|\u001b[39m lib\u001b[38;5;241m.\u001b[39mNoDefault \u001b[38;5;241m=\u001b[39m lib\u001b[38;5;241m.\u001b[39mno_default,\n\u001b[1;32m   (...)\u001b[0m\n\u001b[0;32m  10685\u001b[0m     \u001b[38;5;241m*\u001b[39m\u001b[38;5;241m*\u001b[39mkwargs,\n\u001b[0;32m  10686\u001b[0m ) \u001b[38;5;241m-\u001b[39m\u001b[38;5;241m>\u001b[39m Series \u001b[38;5;241m|\u001b[39m \u001b[38;5;28mfloat\u001b[39m:\n\u001b[1;32m> 10687\u001b[0m     \u001b[38;5;28;01mreturn\u001b[39;00m \u001b[38;5;28mself\u001b[39m\u001b[38;5;241m.\u001b[39m_stat_function(\n\u001b[0;32m  10688\u001b[0m         \u001b[38;5;124m\"\u001b[39m\u001b[38;5;124mmean\u001b[39m\u001b[38;5;124m\"\u001b[39m, nanops\u001b[38;5;241m.\u001b[39mnanmean, axis, skipna, level, numeric_only, \u001b[38;5;241m*\u001b[39m\u001b[38;5;241m*\u001b[39mkwargs\n\u001b[0;32m  10689\u001b[0m     )\n",
      "File \u001b[1;32m~\\anaconda3\\lib\\site-packages\\pandas\\core\\generic.py:10639\u001b[0m, in \u001b[0;36mNDFrame._stat_function\u001b[1;34m(self, name, func, axis, skipna, level, numeric_only, **kwargs)\u001b[0m\n\u001b[0;32m  10629\u001b[0m     warnings\u001b[38;5;241m.\u001b[39mwarn(\n\u001b[0;32m  10630\u001b[0m         \u001b[38;5;124m\"\u001b[39m\u001b[38;5;124mUsing the level keyword in DataFrame and Series aggregations is \u001b[39m\u001b[38;5;124m\"\u001b[39m\n\u001b[0;32m  10631\u001b[0m         \u001b[38;5;124m\"\u001b[39m\u001b[38;5;124mdeprecated and will be removed in a future version. Use groupby \u001b[39m\u001b[38;5;124m\"\u001b[39m\n\u001b[1;32m   (...)\u001b[0m\n\u001b[0;32m  10634\u001b[0m         stacklevel\u001b[38;5;241m=\u001b[39mfind_stack_level(),\n\u001b[0;32m  10635\u001b[0m     )\n\u001b[0;32m  10636\u001b[0m     \u001b[38;5;28;01mreturn\u001b[39;00m \u001b[38;5;28mself\u001b[39m\u001b[38;5;241m.\u001b[39m_agg_by_level(\n\u001b[0;32m  10637\u001b[0m         name, axis\u001b[38;5;241m=\u001b[39maxis, level\u001b[38;5;241m=\u001b[39mlevel, skipna\u001b[38;5;241m=\u001b[39mskipna, numeric_only\u001b[38;5;241m=\u001b[39mnumeric_only\n\u001b[0;32m  10638\u001b[0m     )\n\u001b[1;32m> 10639\u001b[0m \u001b[38;5;28;01mreturn\u001b[39;00m \u001b[38;5;28;43mself\u001b[39;49m\u001b[38;5;241;43m.\u001b[39;49m\u001b[43m_reduce\u001b[49m\u001b[43m(\u001b[49m\n\u001b[0;32m  10640\u001b[0m \u001b[43m    \u001b[49m\u001b[43mfunc\u001b[49m\u001b[43m,\u001b[49m\u001b[43m \u001b[49m\u001b[43mname\u001b[49m\u001b[38;5;241;43m=\u001b[39;49m\u001b[43mname\u001b[49m\u001b[43m,\u001b[49m\u001b[43m \u001b[49m\u001b[43maxis\u001b[49m\u001b[38;5;241;43m=\u001b[39;49m\u001b[43maxis\u001b[49m\u001b[43m,\u001b[49m\u001b[43m \u001b[49m\u001b[43mskipna\u001b[49m\u001b[38;5;241;43m=\u001b[39;49m\u001b[43mskipna\u001b[49m\u001b[43m,\u001b[49m\u001b[43m \u001b[49m\u001b[43mnumeric_only\u001b[49m\u001b[38;5;241;43m=\u001b[39;49m\u001b[43mnumeric_only\u001b[49m\n\u001b[0;32m  10641\u001b[0m \u001b[43m\u001b[49m\u001b[43m)\u001b[49m\n",
      "File \u001b[1;32m~\\anaconda3\\lib\\site-packages\\pandas\\core\\series.py:4471\u001b[0m, in \u001b[0;36mSeries._reduce\u001b[1;34m(self, op, name, axis, skipna, numeric_only, filter_type, **kwds)\u001b[0m\n\u001b[0;32m   4467\u001b[0m     \u001b[38;5;28;01mraise\u001b[39;00m \u001b[38;5;167;01mNotImplementedError\u001b[39;00m(\n\u001b[0;32m   4468\u001b[0m         \u001b[38;5;124mf\u001b[39m\u001b[38;5;124m\"\u001b[39m\u001b[38;5;124mSeries.\u001b[39m\u001b[38;5;132;01m{\u001b[39;00mname\u001b[38;5;132;01m}\u001b[39;00m\u001b[38;5;124m does not implement \u001b[39m\u001b[38;5;132;01m{\u001b[39;00mkwd_name\u001b[38;5;132;01m}\u001b[39;00m\u001b[38;5;124m.\u001b[39m\u001b[38;5;124m\"\u001b[39m\n\u001b[0;32m   4469\u001b[0m     )\n\u001b[0;32m   4470\u001b[0m \u001b[38;5;28;01mwith\u001b[39;00m np\u001b[38;5;241m.\u001b[39merrstate(\u001b[38;5;28mall\u001b[39m\u001b[38;5;241m=\u001b[39m\u001b[38;5;124m\"\u001b[39m\u001b[38;5;124mignore\u001b[39m\u001b[38;5;124m\"\u001b[39m):\n\u001b[1;32m-> 4471\u001b[0m     \u001b[38;5;28;01mreturn\u001b[39;00m op(delegate, skipna\u001b[38;5;241m=\u001b[39mskipna, \u001b[38;5;241m*\u001b[39m\u001b[38;5;241m*\u001b[39mkwds)\n",
      "File \u001b[1;32m~\\anaconda3\\lib\\site-packages\\pandas\\core\\nanops.py:93\u001b[0m, in \u001b[0;36mdisallow.__call__.<locals>._f\u001b[1;34m(*args, **kwargs)\u001b[0m\n\u001b[0;32m     91\u001b[0m \u001b[38;5;28;01mtry\u001b[39;00m:\n\u001b[0;32m     92\u001b[0m     \u001b[38;5;28;01mwith\u001b[39;00m np\u001b[38;5;241m.\u001b[39merrstate(invalid\u001b[38;5;241m=\u001b[39m\u001b[38;5;124m\"\u001b[39m\u001b[38;5;124mignore\u001b[39m\u001b[38;5;124m\"\u001b[39m):\n\u001b[1;32m---> 93\u001b[0m         \u001b[38;5;28;01mreturn\u001b[39;00m f(\u001b[38;5;241m*\u001b[39margs, \u001b[38;5;241m*\u001b[39m\u001b[38;5;241m*\u001b[39mkwargs)\n\u001b[0;32m     94\u001b[0m \u001b[38;5;28;01mexcept\u001b[39;00m \u001b[38;5;167;01mValueError\u001b[39;00m \u001b[38;5;28;01mas\u001b[39;00m e:\n\u001b[0;32m     95\u001b[0m     \u001b[38;5;66;03m# we want to transform an object array\u001b[39;00m\n\u001b[0;32m     96\u001b[0m     \u001b[38;5;66;03m# ValueError message to the more typical TypeError\u001b[39;00m\n\u001b[0;32m     97\u001b[0m     \u001b[38;5;66;03m# e.g. this is normally a disallowed function on\u001b[39;00m\n\u001b[0;32m     98\u001b[0m     \u001b[38;5;66;03m# object arrays that contain strings\u001b[39;00m\n\u001b[0;32m     99\u001b[0m     \u001b[38;5;28;01mif\u001b[39;00m is_object_dtype(args[\u001b[38;5;241m0\u001b[39m]):\n",
      "File \u001b[1;32m~\\anaconda3\\lib\\site-packages\\pandas\\core\\nanops.py:155\u001b[0m, in \u001b[0;36mbottleneck_switch.__call__.<locals>.f\u001b[1;34m(values, axis, skipna, **kwds)\u001b[0m\n\u001b[0;32m    153\u001b[0m         result \u001b[38;5;241m=\u001b[39m alt(values, axis\u001b[38;5;241m=\u001b[39maxis, skipna\u001b[38;5;241m=\u001b[39mskipna, \u001b[38;5;241m*\u001b[39m\u001b[38;5;241m*\u001b[39mkwds)\n\u001b[0;32m    154\u001b[0m \u001b[38;5;28;01melse\u001b[39;00m:\n\u001b[1;32m--> 155\u001b[0m     result \u001b[38;5;241m=\u001b[39m alt(values, axis\u001b[38;5;241m=\u001b[39maxis, skipna\u001b[38;5;241m=\u001b[39mskipna, \u001b[38;5;241m*\u001b[39m\u001b[38;5;241m*\u001b[39mkwds)\n\u001b[0;32m    157\u001b[0m \u001b[38;5;28;01mreturn\u001b[39;00m result\n",
      "File \u001b[1;32m~\\anaconda3\\lib\\site-packages\\pandas\\core\\nanops.py:410\u001b[0m, in \u001b[0;36m_datetimelike_compat.<locals>.new_func\u001b[1;34m(values, axis, skipna, mask, **kwargs)\u001b[0m\n\u001b[0;32m    407\u001b[0m \u001b[38;5;28;01mif\u001b[39;00m datetimelike \u001b[38;5;129;01mand\u001b[39;00m mask \u001b[38;5;129;01mis\u001b[39;00m \u001b[38;5;28;01mNone\u001b[39;00m:\n\u001b[0;32m    408\u001b[0m     mask \u001b[38;5;241m=\u001b[39m isna(values)\n\u001b[1;32m--> 410\u001b[0m result \u001b[38;5;241m=\u001b[39m func(values, axis\u001b[38;5;241m=\u001b[39maxis, skipna\u001b[38;5;241m=\u001b[39mskipna, mask\u001b[38;5;241m=\u001b[39mmask, \u001b[38;5;241m*\u001b[39m\u001b[38;5;241m*\u001b[39mkwargs)\n\u001b[0;32m    412\u001b[0m \u001b[38;5;28;01mif\u001b[39;00m datetimelike:\n\u001b[0;32m    413\u001b[0m     result \u001b[38;5;241m=\u001b[39m _wrap_results(result, orig_values\u001b[38;5;241m.\u001b[39mdtype, fill_value\u001b[38;5;241m=\u001b[39miNaT)\n",
      "File \u001b[1;32m~\\anaconda3\\lib\\site-packages\\pandas\\core\\nanops.py:698\u001b[0m, in \u001b[0;36mnanmean\u001b[1;34m(values, axis, skipna, mask)\u001b[0m\n\u001b[0;32m    695\u001b[0m     dtype_count \u001b[38;5;241m=\u001b[39m dtype\n\u001b[0;32m    697\u001b[0m count \u001b[38;5;241m=\u001b[39m _get_counts(values\u001b[38;5;241m.\u001b[39mshape, mask, axis, dtype\u001b[38;5;241m=\u001b[39mdtype_count)\n\u001b[1;32m--> 698\u001b[0m the_sum \u001b[38;5;241m=\u001b[39m _ensure_numeric(\u001b[43mvalues\u001b[49m\u001b[38;5;241;43m.\u001b[39;49m\u001b[43msum\u001b[49m\u001b[43m(\u001b[49m\u001b[43maxis\u001b[49m\u001b[43m,\u001b[49m\u001b[43m \u001b[49m\u001b[43mdtype\u001b[49m\u001b[38;5;241;43m=\u001b[39;49m\u001b[43mdtype_sum\u001b[49m\u001b[43m)\u001b[49m)\n\u001b[0;32m    700\u001b[0m \u001b[38;5;28;01mif\u001b[39;00m axis \u001b[38;5;129;01mis\u001b[39;00m \u001b[38;5;129;01mnot\u001b[39;00m \u001b[38;5;28;01mNone\u001b[39;00m \u001b[38;5;129;01mand\u001b[39;00m \u001b[38;5;28mgetattr\u001b[39m(the_sum, \u001b[38;5;124m\"\u001b[39m\u001b[38;5;124mndim\u001b[39m\u001b[38;5;124m\"\u001b[39m, \u001b[38;5;28;01mFalse\u001b[39;00m):\n\u001b[0;32m    701\u001b[0m     count \u001b[38;5;241m=\u001b[39m cast(np\u001b[38;5;241m.\u001b[39mndarray, count)\n",
      "File \u001b[1;32m~\\anaconda3\\lib\\site-packages\\numpy\\core\\_methods.py:48\u001b[0m, in \u001b[0;36m_sum\u001b[1;34m(a, axis, dtype, out, keepdims, initial, where)\u001b[0m\n\u001b[0;32m     46\u001b[0m \u001b[38;5;28;01mdef\u001b[39;00m \u001b[38;5;21m_sum\u001b[39m(a, axis\u001b[38;5;241m=\u001b[39m\u001b[38;5;28;01mNone\u001b[39;00m, dtype\u001b[38;5;241m=\u001b[39m\u001b[38;5;28;01mNone\u001b[39;00m, out\u001b[38;5;241m=\u001b[39m\u001b[38;5;28;01mNone\u001b[39;00m, keepdims\u001b[38;5;241m=\u001b[39m\u001b[38;5;28;01mFalse\u001b[39;00m,\n\u001b[0;32m     47\u001b[0m          initial\u001b[38;5;241m=\u001b[39m_NoValue, where\u001b[38;5;241m=\u001b[39m\u001b[38;5;28;01mTrue\u001b[39;00m):\n\u001b[1;32m---> 48\u001b[0m     \u001b[38;5;28;01mreturn\u001b[39;00m \u001b[43mumr_sum\u001b[49m\u001b[43m(\u001b[49m\u001b[43ma\u001b[49m\u001b[43m,\u001b[49m\u001b[43m \u001b[49m\u001b[43maxis\u001b[49m\u001b[43m,\u001b[49m\u001b[43m \u001b[49m\u001b[43mdtype\u001b[49m\u001b[43m,\u001b[49m\u001b[43m \u001b[49m\u001b[43mout\u001b[49m\u001b[43m,\u001b[49m\u001b[43m \u001b[49m\u001b[43mkeepdims\u001b[49m\u001b[43m,\u001b[49m\u001b[43m \u001b[49m\u001b[43minitial\u001b[49m\u001b[43m,\u001b[49m\u001b[43m \u001b[49m\u001b[43mwhere\u001b[49m\u001b[43m)\u001b[49m\n",
      "\u001b[1;31mTypeError\u001b[0m: unsupported operand type(s) for +: 'int' and 'str'"
     ]
    }
   ],
   "source": [
    "np.mean(df[\"generation_data_source\"])"
   ]
  },
  {
   "cell_type": "code",
   "execution_count": 98,
   "id": "9a920fee",
   "metadata": {},
   "outputs": [
    {
     "data": {
      "text/plain": [
       "country                                                 IND\n",
       "country_long                                          India\n",
       "name                                   AWARPUR CEMENT PLANT\n",
       "gppd_idnr                                        WRI1019940\n",
       "capacity_mw                                            46.0\n",
       "latitude                                            19.7881\n",
       "longitude                                           79.1518\n",
       "primary_fuel                                           Coal\n",
       "other_fuel1                                             NaN\n",
       "other_fuel2                                             NaN\n",
       "other_fuel3                                             NaN\n",
       "commissioning_year                                      NaN\n",
       "owner                                  Ultratech Cement ltd\n",
       "source                                 Ultratech Cement ltd\n",
       "url                         http://www.ultratechcement.com/\n",
       "geolocation_source                                      WRI\n",
       "wepp_id                                                 NaN\n",
       "year_of_capacity_data                                   NaN\n",
       "generation_gwh_2013                                     NaN\n",
       "generation_gwh_2014                                     NaN\n",
       "generation_gwh_2015                                     NaN\n",
       "generation_gwh_2016                                     NaN\n",
       "generation_gwh_2017                                     NaN\n",
       "generation_gwh_2018                                     NaN\n",
       "generation_gwh_2019                                     NaN\n",
       "generation_data_source                                  NaN\n",
       "estimated_generation_gwh                                NaN\n",
       "Name: 24, dtype: object"
      ]
     },
     "execution_count": 98,
     "metadata": {},
     "output_type": "execute_result"
    }
   ],
   "source": [
    "df.iloc[24,:]"
   ]
  },
  {
   "cell_type": "code",
   "execution_count": 99,
   "id": "832588bd",
   "metadata": {},
   "outputs": [
    {
     "data": {
      "text/plain": [
       "country                       0\n",
       "country_long                  0\n",
       "name                          0\n",
       "gppd_idnr                     0\n",
       "capacity_mw                   0\n",
       "latitude                     46\n",
       "longitude                    46\n",
       "primary_fuel                  0\n",
       "other_fuel1                 709\n",
       "other_fuel2                 906\n",
       "other_fuel3                 907\n",
       "commissioning_year          380\n",
       "owner                       565\n",
       "source                        0\n",
       "url                           0\n",
       "geolocation_source           19\n",
       "wepp_id                     907\n",
       "year_of_capacity_data       388\n",
       "generation_gwh_2013         907\n",
       "generation_gwh_2014         509\n",
       "generation_gwh_2015         485\n",
       "generation_gwh_2016         473\n",
       "generation_gwh_2017         467\n",
       "generation_gwh_2018         459\n",
       "generation_gwh_2019         907\n",
       "generation_data_source      458\n",
       "estimated_generation_gwh    907\n",
       "dtype: int64"
      ]
     },
     "execution_count": 99,
     "metadata": {},
     "output_type": "execute_result"
    }
   ],
   "source": [
    "df.isnull().sum()"
   ]
  },
  {
   "cell_type": "code",
   "execution_count": 100,
   "id": "552893dc",
   "metadata": {},
   "outputs": [
    {
     "data": {
      "text/plain": [
       "country                      object\n",
       "country_long                 object\n",
       "name                         object\n",
       "gppd_idnr                    object\n",
       "capacity_mw                 float64\n",
       "latitude                    float64\n",
       "longitude                   float64\n",
       "primary_fuel                 object\n",
       "other_fuel1                  object\n",
       "other_fuel2                  object\n",
       "other_fuel3                 float64\n",
       "commissioning_year          float64\n",
       "owner                        object\n",
       "source                       object\n",
       "url                          object\n",
       "geolocation_source           object\n",
       "wepp_id                     float64\n",
       "year_of_capacity_data       float64\n",
       "generation_gwh_2013         float64\n",
       "generation_gwh_2014         float64\n",
       "generation_gwh_2015         float64\n",
       "generation_gwh_2016         float64\n",
       "generation_gwh_2017         float64\n",
       "generation_gwh_2018         float64\n",
       "generation_gwh_2019         float64\n",
       "generation_data_source       object\n",
       "estimated_generation_gwh    float64\n",
       "dtype: object"
      ]
     },
     "execution_count": 100,
     "metadata": {},
     "output_type": "execute_result"
    }
   ],
   "source": [
    "df.dtypes"
   ]
  },
  {
   "cell_type": "code",
   "execution_count": 101,
   "id": "3efb38d8",
   "metadata": {},
   "outputs": [],
   "source": [
    "df_visualization_nominal=df[['country','country_long','name','gppd_idnr','capacity_mw','latitude','longitude','primary_fuel','other_fuel1','other_fuel2','other_fuel3','commissioning_year','owner','source','url','geolocation_source','wepp_id','year_of_capacity_data','generation_gwh_2013','generation_gwh_2014','generation_gwh_2015','generation_gwh_2016','generation_gwh_2017','generation_gwh_2017','generation_gwh_2018','generation_gwh_2019','generation_data_source','estimated_generation_gwh']]"
   ]
  },
  {
   "cell_type": "code",
   "execution_count": 102,
   "id": "cdce5767",
   "metadata": {},
   "outputs": [
    {
     "data": {
      "text/plain": [
       "Index(['country', 'country_long', 'name', 'gppd_idnr', 'capacity_mw',\n",
       "       'latitude', 'longitude', 'primary_fuel', 'other_fuel1', 'other_fuel2',\n",
       "       'other_fuel3', 'commissioning_year', 'owner', 'source', 'url',\n",
       "       'geolocation_source', 'wepp_id', 'year_of_capacity_data',\n",
       "       'generation_gwh_2013', 'generation_gwh_2014', 'generation_gwh_2015',\n",
       "       'generation_gwh_2016', 'generation_gwh_2017', 'generation_gwh_2017',\n",
       "       'generation_gwh_2018', 'generation_gwh_2019', 'generation_data_source',\n",
       "       'estimated_generation_gwh'],\n",
       "      dtype='object')"
      ]
     },
     "execution_count": 102,
     "metadata": {},
     "output_type": "execute_result"
    }
   ],
   "source": [
    "df_visualization_nominal.columns"
   ]
  },
  {
   "cell_type": "code",
   "execution_count": 103,
   "id": "43f89cbe",
   "metadata": {},
   "outputs": [],
   "source": [
    "import seaborn as sns"
   ]
  },
  {
   "cell_type": "code",
   "execution_count": 104,
   "id": "7d9945b1",
   "metadata": {},
   "outputs": [
    {
     "name": "stdout",
     "output_type": "stream",
     "text": [
      "IND    907\n",
      "Name: country, dtype: int64\n"
     ]
    },
    {
     "data": {
      "image/png": "[encoded data removed]",
      "text/plain": [
       "<Figure size 432x288 with 1 Axes>"
      ]
     },
     "metadata": {
      "needs_background": "light"
     },
     "output_type": "display_data"
    }
   ],
   "source": [
    "ax = sns.countplot(x=\"country\",data=df_visualization_nominal)\n",
    "print(df_visualization_nominal[\"country\"].value_counts())"
   ]
  },
  {
   "cell_type": "code",
   "execution_count": 105,
   "id": "c432d07c",
   "metadata": {},
   "outputs": [
    {
     "name": "stdout",
     "output_type": "stream",
     "text": [
      "India    907\n",
      "Name: country_long, dtype: int64\n"
     ]
    },
    {
     "data": {
      "image/png": "[encoded data removed]",
      "text/plain": [
       "<Figure size 432x288 with 1 Axes>"
      ]
     },
     "metadata": {
      "needs_background": "light"
     },
     "output_type": "display_data"
    }
   ],
   "source": [
    "ax = sns.countplot(x=\"country_long\",data=df_visualization_nominal)\n",
    "print(df_visualization_nominal[\"country_long\"].value_counts())"
   ]
  },
  {
   "cell_type": "code",
   "execution_count": 106,
   "id": "6894ab9a",
   "metadata": {},
   "outputs": [
    {
     "name": "stdout",
     "output_type": "stream",
     "text": [
      "ACME Solar Tower           1\n",
      "RAICHUR                    1\n",
      "PRYAGRAJ (BARA) TPP        1\n",
      "PULICHINTALA               1\n",
      "PUNE MILL                  1\n",
      "                          ..\n",
      "KADANA                     1\n",
      "KADRA                      1\n",
      "KAHALGAON                  1\n",
      "KAIGA                      1\n",
      "iEnergy Theni Wind Farm    1\n",
      "Name: name, Length: 907, dtype: int64\n"
     ]
    },
    {
     "data": {
      "image/png": "[encoded data removed]",
      "text/plain": [
       "<Figure size 432x288 with 1 Axes>"
      ]
     },
     "metadata": {
      "needs_background": "light"
     },
     "output_type": "display_data"
    }
   ],
   "source": [
    "ax = sns.countplot(x=\"name\",data=df_visualization_nominal)\n",
    "print(df_visualization_nominal[\"name\"].value_counts())"
   ]
  },
  {
   "cell_type": "code",
   "execution_count": 107,
   "id": "ed6d2cf7",
   "metadata": {},
   "outputs": [
    {
     "name": "stdout",
     "output_type": "stream",
     "text": [
      "WRI1020239    1\n",
      "IND0000356    1\n",
      "IND0000346    1\n",
      "IND0000523    1\n",
      "WRI1019978    1\n",
      "             ..\n",
      "IND0000167    1\n",
      "IND0000168    1\n",
      "IND0000169    1\n",
      "IND0000170    1\n",
      "WRI1026761    1\n",
      "Name: gppd_idnr, Length: 907, dtype: int64\n"
     ]
    },
    {
     "data": {
      "image/png": "[encoded data removed]",
      "text/plain": [
       "<Figure size 432x288 with 1 Axes>"
      ]
     },
     "metadata": {
      "needs_background": "light"
     },
     "output_type": "display_data"
    }
   ],
   "source": [
    "ax = sns.countplot(x=\"gppd_idnr\",data=df_visualization_nominal)\n",
    "print(df_visualization_nominal[\"gppd_idnr\"].value_counts())"
   ]
  },
  {
   "cell_type": "code",
   "execution_count": 108,
   "id": "02bedfd7",
   "metadata": {},
   "outputs": [
    {
     "name": "stdout",
     "output_type": "stream",
     "text": [
      "5.0       39\n",
      "10.0      22\n",
      "600.0     20\n",
      "15.0      20\n",
      "1200.0    19\n",
      "          ..\n",
      "291.0      1\n",
      "645.0      1\n",
      "41.4       1\n",
      "17.5       1\n",
      "106.6      1\n",
      "Name: capacity_mw, Length: 361, dtype: int64\n"
     ]
    },
    {
     "data": {
      "image/png": "[encoded data removed]",
      "text/plain": [
       "<Figure size 432x288 with 1 Axes>"
      ]
     },
     "metadata": {
      "needs_background": "light"
     },
     "output_type": "display_data"
    }
   ],
   "source": [
    "ax = sns.countplot(x=\"capacity_mw\",data=df_visualization_nominal)\n",
    "print(df_visualization_nominal[\"capacity_mw\"].value_counts())"
   ]
  },
  {
   "cell_type": "code",
   "execution_count": 109,
   "id": "ae07919c",
   "metadata": {},
   "outputs": [
    {
     "name": "stdout",
     "output_type": "stream",
     "text": [
      "19.0004    3\n",
      "24.1917    3\n",
      "24.8747    2\n",
      "13.2450    2\n",
      "11.5336    2\n",
      "          ..\n",
      "22.7554    1\n",
      "27.1598    1\n",
      "17.2970    1\n",
      "20.8772    1\n",
      "9.9344     1\n",
      "Name: latitude, Length: 836, dtype: int64\n"
     ]
    },
    {
     "data": {
      "image/png": "[encoded data removed]",
      "text/plain": [
       "<Figure size 432x288 with 1 Axes>"
      ]
     },
     "metadata": {
      "needs_background": "light"
     },
     "output_type": "display_data"
    }
   ],
   "source": [
    "ax = sns.countplot(x=\"latitude\",data=df_visualization_nominal)\n",
    "print(df_visualization_nominal[\"latitude\"].value_counts())"
   ]
  },
  {
   "cell_type": "code",
   "execution_count": 110,
   "id": "370d3580",
   "metadata": {},
   "outputs": [
    {
     "name": "stdout",
     "output_type": "stream",
     "text": [
      "71.6917    4\n",
      "75.8988    3\n",
      "71.6918    3\n",
      "72.8983    3\n",
      "81.2875    3\n",
      "          ..\n",
      "70.3961    1\n",
      "74.2393    1\n",
      "77.0435    1\n",
      "73.8254    1\n",
      "77.4768    1\n",
      "Name: longitude, Length: 827, dtype: int64\n"
     ]
    },
    {
     "data": {
      "image/png": "[encoded data removed]",
      "text/plain": [
       "<Figure size 432x288 with 1 Axes>"
      ]
     },
     "metadata": {
      "needs_background": "light"
     },
     "output_type": "display_data"
    }
   ],
   "source": [
    "ax = sns.countplot(x=\"longitude\",data=df_visualization_nominal)\n",
    "print(df_visualization_nominal[\"longitude\"].value_counts())"
   ]
  },
  {
   "cell_type": "code",
   "execution_count": 111,
   "id": "362e705f",
   "metadata": {},
   "outputs": [
    {
     "name": "stdout",
     "output_type": "stream",
     "text": [
      "Coal       258\n",
      "Hydro      251\n",
      "Solar      127\n",
      "Wind       123\n",
      "Gas         69\n",
      "Biomass     50\n",
      "Oil         20\n",
      "Nuclear      9\n",
      "Name: primary_fuel, dtype: int64\n"
     ]
    },
    {
     "data": {
      "image/png": "[encoded data removed]",
      "text/plain": [
       "<Figure size 432x288 with 1 Axes>"
      ]
     },
     "metadata": {
      "needs_background": "light"
     },
     "output_type": "display_data"
    }
   ],
   "source": [
    "ax = sns.countplot(x=\"primary_fuel\",data=df_visualization_nominal)\n",
    "print(df_visualization_nominal[\"primary_fuel\"].value_counts())"
   ]
  },
  {
   "cell_type": "code",
   "execution_count": 112,
   "id": "38aee733",
   "metadata": {},
   "outputs": [
    {
     "name": "stdout",
     "output_type": "stream",
     "text": [
      "Oil             195\n",
      "Gas               2\n",
      "Cogeneration      1\n",
      "Name: other_fuel1, dtype: int64\n"
     ]
    },
    {
     "data": {
      "image/png": "[encoded data removed]",
      "text/plain": [
       "<Figure size 432x288 with 1 Axes>"
      ]
     },
     "metadata": {
      "needs_background": "light"
     },
     "output_type": "display_data"
    }
   ],
   "source": [
    "ax = sns.countplot(x=\"other_fuel1\",data=df_visualization_nominal)\n",
    "print(df_visualization_nominal[\"other_fuel1\"].value_counts())"
   ]
  },
  {
   "cell_type": "code",
   "execution_count": 113,
   "id": "aa69d94e",
   "metadata": {},
   "outputs": [
    {
     "name": "stdout",
     "output_type": "stream",
     "text": [
      "Oil             195\n",
      "Gas               2\n",
      "Cogeneration      1\n",
      "Name: other_fuel1, dtype: int64\n"
     ]
    },
    {
     "data": {
      "image/png": "[encoded data removed]",
      "text/plain": [
       "<Figure size 432x288 with 1 Axes>"
      ]
     },
     "metadata": {
      "needs_background": "light"
     },
     "output_type": "display_data"
    }
   ],
   "source": [
    "ax = sns.countplot(x=\"other_fuel1\",data=df_visualization_nominal)\n",
    "print(df_visualization_nominal[\"other_fuel1\"].value_counts())"
   ]
  },
  {
   "cell_type": "code",
   "execution_count": 114,
   "id": "970e02c4",
   "metadata": {},
   "outputs": [
    {
     "name": "stdout",
     "output_type": "stream",
     "text": [
      "Oil    1\n",
      "Name: other_fuel2, dtype: int64\n"
     ]
    },
    {
     "data": {
      "image/png": "[encoded data removed]",
      "text/plain": [
       "<Figure size 432x288 with 1 Axes>"
      ]
     },
     "metadata": {
      "needs_background": "light"
     },
     "output_type": "display_data"
    }
   ],
   "source": [
    "ax = sns.countplot(x=\"other_fuel2\",data=df_visualization_nominal)\n",
    "print(df_visualization_nominal[\"other_fuel2\"].value_counts())"
   ]
  },
  {
   "cell_type": "code",
   "execution_count": 115,
   "id": "8119c85a",
   "metadata": {},
   "outputs": [
    {
     "name": "stdout",
     "output_type": "stream",
     "text": [
      "2015.0    28\n",
      "2013.0    25\n",
      "2012.0    23\n",
      "2016.0    19\n",
      "2010.0    18\n",
      "          ..\n",
      "1946.0     1\n",
      "1956.0     1\n",
      "1937.0     1\n",
      "1949.0     1\n",
      "1953.0     1\n",
      "Name: commissioning_year, Length: 73, dtype: int64\n"
     ]
    },
    {
     "data": {
      "image/png": "[encoded data removed]",
      "text/plain": [
       "<Figure size 432x288 with 1 Axes>"
      ]
     },
     "metadata": {
      "needs_background": "light"
     },
     "output_type": "display_data"
    }
   ],
   "source": [
    "ax = sns.countplot(x=\"commissioning_year\",data=df_visualization_nominal)\n",
    "print(df_visualization_nominal[\"commissioning_year\"].value_counts())"
   ]
  },
  {
   "cell_type": "code",
   "execution_count": 116,
   "id": "b48b5c2b",
   "metadata": {},
   "outputs": [
    {
     "name": "stdout",
     "output_type": "stream",
     "text": [
      "Acc Acc ltd                                                    4\n",
      "Sterling Agro Industries ltd.                                  4\n",
      "Jk Cement ltd                                                  4\n",
      "SWPPL                                                          3\n",
      "Jaypee Ltd jccl)                                               3\n",
      "                                                              ..\n",
      "Sunkon Energy Private Limited                                  1\n",
      "West Bengal Energy Development Corporation Limited (WBEDCL)    1\n",
      "Energy Infratech Private Limited                               1\n",
      "K. N. Ram                                                      1\n",
      "iEnergy Wind Farms                                             1\n",
      "Name: owner, Length: 280, dtype: int64\n"
     ]
    },
    {
     "data": {
      "image/png": "[encoded data removed]",
      "text/plain": [
       "<Figure size 432x288 with 1 Axes>"
      ]
     },
     "metadata": {
      "needs_background": "light"
     },
     "output_type": "display_data"
    }
   ],
   "source": [
    "ax = sns.countplot(x=\"owner\",data=df_visualization_nominal)\n",
    "print(df_visualization_nominal[\"owner\"].value_counts())"
   ]
  },
  {
   "cell_type": "code",
   "execution_count": 117,
   "id": "10976735",
   "metadata": {},
   "outputs": [
    {
     "name": "stdout",
     "output_type": "stream",
     "text": [
      "Central Electricity Authority                                  519\n",
      "CDM                                                            124\n",
      "Lancosola                                                       10\n",
      "National Renewable Energy Laboratory                             8\n",
      "National Thermal Power Corporation (NTPC)                        6\n",
      "                                                              ... \n",
      "Harsha Engineers Limited                                         1\n",
      "Godawari Energy ltd                                              1\n",
      "Sunkon Energy Private Limited                                    1\n",
      "West Bengal Energy Development Corporation Limited (WBEDCL)      1\n",
      "Yashwantrao Krishna ssk                                          1\n",
      "Name: source, Length: 191, dtype: int64\n"
     ]
    },
    {
     "data": {
      "image/png": "[encoded data removed]",
      "text/plain": [
       "<Figure size 432x288 with 1 Axes>"
      ]
     },
     "metadata": {
      "needs_background": "light"
     },
     "output_type": "display_data"
    }
   ],
   "source": [
    "ax = sns.countplot(x=\"source\",data=df_visualization_nominal)\n",
    "print(df_visualization_nominal[\"source\"].value_counts())"
   ]
  },
  {
   "cell_type": "code",
   "execution_count": 118,
   "id": "a5d0979a",
   "metadata": {},
   "outputs": [
    {
     "name": "stdout",
     "output_type": "stream",
     "text": [
      "http://www.cea.nic.in/                                                              519\n",
      "http://www.lancosolar.com/pdfs/rajasthan-pv-project-details.pdf                       7\n",
      "http://www.ntpc.co.in                                                                 6\n",
      "http://viainfotech.biz/Biomass/theme5/document/green_market/REC-project-list.pdf      5\n",
      "http://www.mahaurja.com/PDF/PG2_GridConnSPPCommissioned.pdf                           4\n",
      "                                                                                   ... \n",
      "https://cdm.unfccc.int/Projects/DB/LRQA%20Ltd1346322352.66/view                       1\n",
      "https://cdm.unfccc.int/Projects/DB/DNV-CUK1351166669.28/view                          1\n",
      "http://harshaengineers.com                                                            1\n",
      "http://hiragroup.com/companies/godawari-green-energy-limited/                         1\n",
      "https://cdm.unfccc.int/Projects/DB/RWTUV1345031355.85/view                            1\n",
      "Name: url, Length: 304, dtype: int64\n"
     ]
    },
    {
     "data": {
      "image/png": "[encoded data removed]",
      "text/plain": [
       "<Figure size 432x288 with 1 Axes>"
      ]
     },
     "metadata": {
      "needs_background": "light"
     },
     "output_type": "display_data"
    }
   ],
   "source": [
    "ax = sns.countplot(x=\"url\",data=df_visualization_nominal)\n",
    "print(df_visualization_nominal[\"url\"].value_counts())"
   ]
  },
  {
   "cell_type": "code",
   "execution_count": 119,
   "id": "c80be6e2",
   "metadata": {},
   "outputs": [
    {
     "name": "stdout",
     "output_type": "stream",
     "text": [
      "WRI                                     765\n",
      "Industry About                          119\n",
      "National Renewable Energy Laboratory      4\n",
      "Name: geolocation_source, dtype: int64\n"
     ]
    },
    {
     "data": {
      "image/png": "[encoded data removed]",
      "text/plain": [
       "<Figure size 432x288 with 1 Axes>"
      ]
     },
     "metadata": {
      "needs_background": "light"
     },
     "output_type": "display_data"
    }
   ],
   "source": [
    "ax = sns.countplot(x=\"geolocation_source\",data=df_visualization_nominal)\n",
    "print(df_visualization_nominal[\"geolocation_source\"].value_counts())"
   ]
  },
  {
   "cell_type": "code",
   "execution_count": 120,
   "id": "94c479f5",
   "metadata": {},
   "outputs": [
    {
     "name": "stdout",
     "output_type": "stream",
     "text": [
      "2019.0    519\n",
      "Name: year_of_capacity_data, dtype: int64\n"
     ]
    },
    {
     "data": {
      "image/png": "[encoded data removed]",
      "text/plain": [
       "<Figure size 432x288 with 1 Axes>"
      ]
     },
     "metadata": {
      "needs_background": "light"
     },
     "output_type": "display_data"
    }
   ],
   "source": [
    "ax = sns.countplot(x=\"year_of_capacity_data\",data=df_visualization_nominal)\n",
    "print(df_visualization_nominal[\"year_of_capacity_data\"].value_counts())"
   ]
  },
  {
   "cell_type": "code",
   "execution_count": 121,
   "id": "c3efb3f4",
   "metadata": {},
   "outputs": [
    {
     "name": "stdout",
     "output_type": "stream",
     "text": [
      "0.000000       28\n",
      "617.789264      1\n",
      "359.139800      1\n",
      "7368.390000     1\n",
      "9983.018000     1\n",
      "               ..\n",
      "4436.700000     1\n",
      "1154.342000     1\n",
      "451.053400      1\n",
      "3239.142900     1\n",
      "3194.359820     1\n",
      "Name: generation_gwh_2014, Length: 371, dtype: int64\n"
     ]
    },
    {
     "data": {
      "image/png": "[encoded data removed]",
      "text/plain": [
       "<Figure size 432x288 with 1 Axes>"
      ]
     },
     "metadata": {
      "needs_background": "light"
     },
     "output_type": "display_data"
    }
   ],
   "source": [
    "ax = sns.countplot(x=\"generation_gwh_2014\",data=df_visualization_nominal)\n",
    "print(df_visualization_nominal[\"generation_gwh_2014\"].value_counts())"
   ]
  },
  {
   "cell_type": "code",
   "execution_count": 122,
   "id": "7bf2da43",
   "metadata": {},
   "outputs": [
    {
     "name": "stdout",
     "output_type": "stream",
     "text": [
      "0.000000        27\n",
      "843.747000       1\n",
      "1497.798000      1\n",
      "10422.690000     1\n",
      "240.799900       1\n",
      "                ..\n",
      "6996.000000      1\n",
      "14192.000000     1\n",
      "219.377600       1\n",
      "288.460450       1\n",
      "0.994875         1\n",
      "Name: generation_gwh_2015, Length: 396, dtype: int64\n"
     ]
    },
    {
     "data": {
      "image/png": "[encoded data removed]",
      "text/plain": [
       "<Figure size 432x288 with 1 Axes>"
      ]
     },
     "metadata": {
      "needs_background": "light"
     },
     "output_type": "display_data"
    }
   ],
   "source": [
    "ax = sns.countplot(x=\"generation_gwh_2015\",data=df_visualization_nominal)\n",
    "print(df_visualization_nominal[\"generation_gwh_2015\"].value_counts())"
   ]
  },
  {
   "cell_type": "code",
   "execution_count": 123,
   "id": "784b6460",
   "metadata": {},
   "outputs": [
    {
     "name": "stdout",
     "output_type": "stream",
     "text": [
      "0.000000       30\n",
      "8470.570000     2\n",
      "1511.000000     2\n",
      "886.004428      1\n",
      "90.644500       1\n",
      "               ..\n",
      "1338.095900     1\n",
      "131.021600      1\n",
      "6130.019928     1\n",
      "5931.490000     1\n",
      "233.596650      1\n",
      "Name: generation_gwh_2016, Length: 403, dtype: int64\n"
     ]
    },
    {
     "data": {
      "image/png": "[encoded data removed]",
      "text/plain": [
       "<Figure size 432x288 with 1 Axes>"
      ]
     },
     "metadata": {
      "needs_background": "light"
     },
     "output_type": "display_data"
    }
   ],
   "source": [
    "ax = sns.countplot(x=\"generation_gwh_2016\",data=df_visualization_nominal)\n",
    "print(df_visualization_nominal[\"generation_gwh_2016\"].value_counts())"
   ]
  },
  {
   "cell_type": "code",
   "execution_count": 124,
   "id": "bca751e8",
   "metadata": {},
   "outputs": [
    {
     "name": "stdout",
     "output_type": "stream",
     "text": [
      "0.000000        39\n",
      "626.239128       1\n",
      "505.420200       1\n",
      "1098.450150      1\n",
      "17.213500        1\n",
      "                ..\n",
      "220.551700       1\n",
      "7321.267900      1\n",
      "6532.350000      1\n",
      "15305.220000     1\n",
      "686.500000       1\n",
      "Name: generation_gwh_2018, Length: 410, dtype: int64\n"
     ]
    },
    {
     "data": {
      "image/png": "[encoded data removed]",
      "text/plain": [
       "<Figure size 432x288 with 1 Axes>"
      ]
     },
     "metadata": {
      "needs_background": "light"
     },
     "output_type": "display_data"
    }
   ],
   "source": [
    "ax = sns.countplot(x=\"generation_gwh_2018\",data=df_visualization_nominal)\n",
    "print(df_visualization_nominal[\"generation_gwh_2018\"].value_counts())"
   ]
  },
  {
   "cell_type": "code",
   "execution_count": 125,
   "id": "d4f43f38",
   "metadata": {},
   "outputs": [
    {
     "name": "stdout",
     "output_type": "stream",
     "text": [
      "Central Electricity Authority    449\n",
      "Name: generation_data_source, dtype: int64\n"
     ]
    },
    {
     "data": {
      "image/png": "[encoded data removed]",
      "text/plain": [
       "<Figure size 432x288 with 1 Axes>"
      ]
     },
     "metadata": {
      "needs_background": "light"
     },
     "output_type": "display_data"
    }
   ],
   "source": [
    "ax = sns.countplot(x=\"generation_data_source\",data=df_visualization_nominal)\n",
    "print(df_visualization_nominal[\"generation_data_source\"].value_counts())"
   ]
  },
  {
   "cell_type": "code",
   "execution_count": 131,
   "id": "f4236a56",
   "metadata": {},
   "outputs": [],
   "source": [
    "df_visualization_continuous=df[[\"generation_data_source\",\"generation_gwh_2018\"]]"
   ]
  },
  {
   "cell_type": "code",
   "execution_count": 132,
   "id": "5300c5d6",
   "metadata": {},
   "outputs": [
    {
     "ename": "KeyError",
     "evalue": "'generaion_gwh_2018'",
     "output_type": "error",
     "traceback": [
      "\u001b[1;31m---------------------------------------------------------------------------\u001b[0m",
      "\u001b[1;31mKeyError\u001b[0m                                  Traceback (most recent call last)",
      "File \u001b[1;32m~\\anaconda3\\lib\\site-packages\\pandas\\core\\indexes\\base.py:3621\u001b[0m, in \u001b[0;36mIndex.get_loc\u001b[1;34m(self, key, method, tolerance)\u001b[0m\n\u001b[0;32m   3620\u001b[0m \u001b[38;5;28;01mtry\u001b[39;00m:\n\u001b[1;32m-> 3621\u001b[0m     \u001b[38;5;28;01mreturn\u001b[39;00m \u001b[38;5;28;43mself\u001b[39;49m\u001b[38;5;241;43m.\u001b[39;49m\u001b[43m_engine\u001b[49m\u001b[38;5;241;43m.\u001b[39;49m\u001b[43mget_loc\u001b[49m\u001b[43m(\u001b[49m\u001b[43mcasted_key\u001b[49m\u001b[43m)\u001b[49m\n\u001b[0;32m   3622\u001b[0m \u001b[38;5;28;01mexcept\u001b[39;00m \u001b[38;5;167;01mKeyError\u001b[39;00m \u001b[38;5;28;01mas\u001b[39;00m err:\n",
      "File \u001b[1;32m~\\anaconda3\\lib\\site-packages\\pandas\\_libs\\index.pyx:136\u001b[0m, in \u001b[0;36mpandas._libs.index.IndexEngine.get_loc\u001b[1;34m()\u001b[0m\n",
      "File \u001b[1;32m~\\anaconda3\\lib\\site-packages\\pandas\\_libs\\index.pyx:163\u001b[0m, in \u001b[0;36mpandas._libs.index.IndexEngine.get_loc\u001b[1;34m()\u001b[0m\n",
      "File \u001b[1;32mpandas\\_libs\\hashtable_class_helper.pxi:5198\u001b[0m, in \u001b[0;36mpandas._libs.hashtable.PyObjectHashTable.get_item\u001b[1;34m()\u001b[0m\n",
      "File \u001b[1;32mpandas\\_libs\\hashtable_class_helper.pxi:5206\u001b[0m, in \u001b[0;36mpandas._libs.hashtable.PyObjectHashTable.get_item\u001b[1;34m()\u001b[0m\n",
      "\u001b[1;31mKeyError\u001b[0m: 'generaion_gwh_2018'",
      "\nThe above exception was the direct cause of the following exception:\n",
      "\u001b[1;31mKeyError\u001b[0m                                  Traceback (most recent call last)",
      "Input \u001b[1;32mIn [132]\u001b[0m, in \u001b[0;36m<cell line: 2>\u001b[1;34m()\u001b[0m\n\u001b[0;32m      1\u001b[0m \u001b[38;5;28;01mimport\u001b[39;00m \u001b[38;5;21;01mseaborn\u001b[39;00m \u001b[38;5;28;01mas\u001b[39;00m \u001b[38;5;21;01msns\u001b[39;00m\n\u001b[1;32m----> 2\u001b[0m sns\u001b[38;5;241m.\u001b[39mdisplot(\u001b[43mdf_visualization_continuous\u001b[49m\u001b[43m[\u001b[49m\u001b[38;5;124;43m\"\u001b[39;49m\u001b[38;5;124;43mgeneraion_gwh_2018\u001b[39;49m\u001b[38;5;124;43m\"\u001b[39;49m\u001b[43m]\u001b[49m,kde\u001b[38;5;241m=\u001b[39m\u001b[38;5;28;01mTrue\u001b[39;00m)\n",
      "File \u001b[1;32m~\\anaconda3\\lib\\site-packages\\pandas\\core\\frame.py:3505\u001b[0m, in \u001b[0;36mDataFrame.__getitem__\u001b[1;34m(self, key)\u001b[0m\n\u001b[0;32m   3503\u001b[0m \u001b[38;5;28;01mif\u001b[39;00m \u001b[38;5;28mself\u001b[39m\u001b[38;5;241m.\u001b[39mcolumns\u001b[38;5;241m.\u001b[39mnlevels \u001b[38;5;241m>\u001b[39m \u001b[38;5;241m1\u001b[39m:\n\u001b[0;32m   3504\u001b[0m     \u001b[38;5;28;01mreturn\u001b[39;00m \u001b[38;5;28mself\u001b[39m\u001b[38;5;241m.\u001b[39m_getitem_multilevel(key)\n\u001b[1;32m-> 3505\u001b[0m indexer \u001b[38;5;241m=\u001b[39m \u001b[38;5;28;43mself\u001b[39;49m\u001b[38;5;241;43m.\u001b[39;49m\u001b[43mcolumns\u001b[49m\u001b[38;5;241;43m.\u001b[39;49m\u001b[43mget_loc\u001b[49m\u001b[43m(\u001b[49m\u001b[43mkey\u001b[49m\u001b[43m)\u001b[49m\n\u001b[0;32m   3506\u001b[0m \u001b[38;5;28;01mif\u001b[39;00m is_integer(indexer):\n\u001b[0;32m   3507\u001b[0m     indexer \u001b[38;5;241m=\u001b[39m [indexer]\n",
      "File \u001b[1;32m~\\anaconda3\\lib\\site-packages\\pandas\\core\\indexes\\base.py:3623\u001b[0m, in \u001b[0;36mIndex.get_loc\u001b[1;34m(self, key, method, tolerance)\u001b[0m\n\u001b[0;32m   3621\u001b[0m     \u001b[38;5;28;01mreturn\u001b[39;00m \u001b[38;5;28mself\u001b[39m\u001b[38;5;241m.\u001b[39m_engine\u001b[38;5;241m.\u001b[39mget_loc(casted_key)\n\u001b[0;32m   3622\u001b[0m \u001b[38;5;28;01mexcept\u001b[39;00m \u001b[38;5;167;01mKeyError\u001b[39;00m \u001b[38;5;28;01mas\u001b[39;00m err:\n\u001b[1;32m-> 3623\u001b[0m     \u001b[38;5;28;01mraise\u001b[39;00m \u001b[38;5;167;01mKeyError\u001b[39;00m(key) \u001b[38;5;28;01mfrom\u001b[39;00m \u001b[38;5;21;01merr\u001b[39;00m\n\u001b[0;32m   3624\u001b[0m \u001b[38;5;28;01mexcept\u001b[39;00m \u001b[38;5;167;01mTypeError\u001b[39;00m:\n\u001b[0;32m   3625\u001b[0m     \u001b[38;5;66;03m# If we have a listlike key, _check_indexing_error will raise\u001b[39;00m\n\u001b[0;32m   3626\u001b[0m     \u001b[38;5;66;03m#  InvalidIndexError. Otherwise we fall through and re-raise\u001b[39;00m\n\u001b[0;32m   3627\u001b[0m     \u001b[38;5;66;03m#  the TypeError.\u001b[39;00m\n\u001b[0;32m   3628\u001b[0m     \u001b[38;5;28mself\u001b[39m\u001b[38;5;241m.\u001b[39m_check_indexing_error(key)\n",
      "\u001b[1;31mKeyError\u001b[0m: 'generaion_gwh_2018'"
     ]
    }
   ],
   "source": [
    "import seaborn as sns\n",
    "sns.displot(df_visualization_continuous[\"generaion_gwh_2018\"],kde=True)"
   ]
  },
  {
   "cell_type": "code",
   "execution_count": 133,
   "id": "6ec01642",
   "metadata": {},
   "outputs": [],
   "source": [
    "from sklearn.preprocessing import OrdinalEncoder\n",
    "enc=OrdinalEncoder()"
   ]
  },
  {
   "cell_type": "code",
   "execution_count": 134,
   "id": "ea72c022",
   "metadata": {},
   "outputs": [
    {
     "ename": "SyntaxError",
     "evalue": "invalid syntax (2453499583.py, line 1)",
     "output_type": "error",
     "traceback": [
      "\u001b[1;36m  Input \u001b[1;32mIn [134]\u001b[1;36m\u001b[0m\n\u001b[1;33m    for i df.columns:\u001b[0m\n\u001b[1;37m          ^\u001b[0m\n\u001b[1;31mSyntaxError\u001b[0m\u001b[1;31m:\u001b[0m invalid syntax\n"
     ]
    }
   ],
   "source": [
    "for i df.columns:\n",
    "    if df[i].dtypes==\"object\":\n",
    "        df[i]=enc.fit_transform([i].values.reshape(-1,1))"
   ]
  },
  {
   "cell_type": "code",
   "execution_count": 135,
   "id": "e2614295",
   "metadata": {},
   "outputs": [
    {
     "data": {
      "text/html": [
       "<div>\n",
       "<style scoped>\n",
       "    .dataframe tbody tr th:only-of-type {\n",
       "        vertical-align: middle;\n",
       "    }\n",
       "\n",
       "    .dataframe tbody tr th {\n",
       "        vertical-align: top;\n",
       "    }\n",
       "\n",
       "    .dataframe thead th {\n",
       "        text-align: right;\n",
       "    }\n",
       "</style>\n",
       "<table border=\"1\" class=\"dataframe\">\n",
       "  <thead>\n",
       "    <tr style=\"text-align: right;\">\n",
       "      <th></th>\n",
       "      <th>country</th>\n",
       "      <th>country_long</th>\n",
       "      <th>name</th>\n",
       "      <th>gppd_idnr</th>\n",
       "      <th>capacity_mw</th>\n",
       "      <th>latitude</th>\n",
       "      <th>longitude</th>\n",
       "      <th>primary_fuel</th>\n",
       "      <th>other_fuel1</th>\n",
       "      <th>other_fuel2</th>\n",
       "      <th>...</th>\n",
       "      <th>year_of_capacity_data</th>\n",
       "      <th>generation_gwh_2013</th>\n",
       "      <th>generation_gwh_2014</th>\n",
       "      <th>generation_gwh_2015</th>\n",
       "      <th>generation_gwh_2016</th>\n",
       "      <th>generation_gwh_2017</th>\n",
       "      <th>generation_gwh_2018</th>\n",
       "      <th>generation_gwh_2019</th>\n",
       "      <th>generation_data_source</th>\n",
       "      <th>estimated_generation_gwh</th>\n",
       "    </tr>\n",
       "  </thead>\n",
       "  <tbody>\n",
       "    <tr>\n",
       "      <th>0</th>\n",
       "      <td>IND</td>\n",
       "      <td>India</td>\n",
       "      <td>ACME Solar Tower</td>\n",
       "      <td>WRI1020239</td>\n",
       "      <td>2.5</td>\n",
       "      <td>28.1839</td>\n",
       "      <td>73.2407</td>\n",
       "      <td>Solar</td>\n",
       "      <td>NaN</td>\n",
       "      <td>NaN</td>\n",
       "      <td>...</td>\n",
       "      <td>NaN</td>\n",
       "      <td>NaN</td>\n",
       "      <td>NaN</td>\n",
       "      <td>NaN</td>\n",
       "      <td>NaN</td>\n",
       "      <td>NaN</td>\n",
       "      <td>NaN</td>\n",
       "      <td>NaN</td>\n",
       "      <td>NaN</td>\n",
       "      <td>NaN</td>\n",
       "    </tr>\n",
       "    <tr>\n",
       "      <th>1</th>\n",
       "      <td>IND</td>\n",
       "      <td>India</td>\n",
       "      <td>ADITYA CEMENT WORKS</td>\n",
       "      <td>WRI1019881</td>\n",
       "      <td>98.0</td>\n",
       "      <td>24.7663</td>\n",
       "      <td>74.6090</td>\n",
       "      <td>Coal</td>\n",
       "      <td>NaN</td>\n",
       "      <td>NaN</td>\n",
       "      <td>...</td>\n",
       "      <td>NaN</td>\n",
       "      <td>NaN</td>\n",
       "      <td>NaN</td>\n",
       "      <td>NaN</td>\n",
       "      <td>NaN</td>\n",
       "      <td>NaN</td>\n",
       "      <td>NaN</td>\n",
       "      <td>NaN</td>\n",
       "      <td>NaN</td>\n",
       "      <td>NaN</td>\n",
       "    </tr>\n",
       "    <tr>\n",
       "      <th>2</th>\n",
       "      <td>IND</td>\n",
       "      <td>India</td>\n",
       "      <td>AES Saurashtra Windfarms</td>\n",
       "      <td>WRI1026669</td>\n",
       "      <td>39.2</td>\n",
       "      <td>21.9038</td>\n",
       "      <td>69.3732</td>\n",
       "      <td>Wind</td>\n",
       "      <td>NaN</td>\n",
       "      <td>NaN</td>\n",
       "      <td>...</td>\n",
       "      <td>NaN</td>\n",
       "      <td>NaN</td>\n",
       "      <td>NaN</td>\n",
       "      <td>NaN</td>\n",
       "      <td>NaN</td>\n",
       "      <td>NaN</td>\n",
       "      <td>NaN</td>\n",
       "      <td>NaN</td>\n",
       "      <td>NaN</td>\n",
       "      <td>NaN</td>\n",
       "    </tr>\n",
       "    <tr>\n",
       "      <th>3</th>\n",
       "      <td>IND</td>\n",
       "      <td>India</td>\n",
       "      <td>AGARTALA GT</td>\n",
       "      <td>IND0000001</td>\n",
       "      <td>135.0</td>\n",
       "      <td>23.8712</td>\n",
       "      <td>91.3602</td>\n",
       "      <td>Gas</td>\n",
       "      <td>NaN</td>\n",
       "      <td>NaN</td>\n",
       "      <td>...</td>\n",
       "      <td>2019.0</td>\n",
       "      <td>NaN</td>\n",
       "      <td>617.789264</td>\n",
       "      <td>843.747000</td>\n",
       "      <td>886.004428</td>\n",
       "      <td>663.774500</td>\n",
       "      <td>626.239128</td>\n",
       "      <td>NaN</td>\n",
       "      <td>Central Electricity Authority</td>\n",
       "      <td>NaN</td>\n",
       "    </tr>\n",
       "    <tr>\n",
       "      <th>4</th>\n",
       "      <td>IND</td>\n",
       "      <td>India</td>\n",
       "      <td>AKALTARA TPP</td>\n",
       "      <td>IND0000002</td>\n",
       "      <td>1800.0</td>\n",
       "      <td>21.9603</td>\n",
       "      <td>82.4091</td>\n",
       "      <td>Coal</td>\n",
       "      <td>Oil</td>\n",
       "      <td>NaN</td>\n",
       "      <td>...</td>\n",
       "      <td>2019.0</td>\n",
       "      <td>NaN</td>\n",
       "      <td>3035.550000</td>\n",
       "      <td>5916.370000</td>\n",
       "      <td>6243.000000</td>\n",
       "      <td>5385.579736</td>\n",
       "      <td>7279.000000</td>\n",
       "      <td>NaN</td>\n",
       "      <td>Central Electricity Authority</td>\n",
       "      <td>NaN</td>\n",
       "    </tr>\n",
       "    <tr>\n",
       "      <th>...</th>\n",
       "      <td>...</td>\n",
       "      <td>...</td>\n",
       "      <td>...</td>\n",
       "      <td>...</td>\n",
       "      <td>...</td>\n",
       "      <td>...</td>\n",
       "      <td>...</td>\n",
       "      <td>...</td>\n",
       "      <td>...</td>\n",
       "      <td>...</td>\n",
       "      <td>...</td>\n",
       "      <td>...</td>\n",
       "      <td>...</td>\n",
       "      <td>...</td>\n",
       "      <td>...</td>\n",
       "      <td>...</td>\n",
       "      <td>...</td>\n",
       "      <td>...</td>\n",
       "      <td>...</td>\n",
       "      <td>...</td>\n",
       "      <td>...</td>\n",
       "    </tr>\n",
       "    <tr>\n",
       "      <th>902</th>\n",
       "      <td>IND</td>\n",
       "      <td>India</td>\n",
       "      <td>YERMARUS TPP</td>\n",
       "      <td>IND0000513</td>\n",
       "      <td>1600.0</td>\n",
       "      <td>16.2949</td>\n",
       "      <td>77.3568</td>\n",
       "      <td>Coal</td>\n",
       "      <td>Oil</td>\n",
       "      <td>NaN</td>\n",
       "      <td>...</td>\n",
       "      <td>2019.0</td>\n",
       "      <td>NaN</td>\n",
       "      <td>NaN</td>\n",
       "      <td>0.994875</td>\n",
       "      <td>233.596650</td>\n",
       "      <td>865.400000</td>\n",
       "      <td>686.500000</td>\n",
       "      <td>NaN</td>\n",
       "      <td>Central Electricity Authority</td>\n",
       "      <td>NaN</td>\n",
       "    </tr>\n",
       "    <tr>\n",
       "      <th>903</th>\n",
       "      <td>IND</td>\n",
       "      <td>India</td>\n",
       "      <td>Yelesandra Solar Power Plant</td>\n",
       "      <td>WRI1026222</td>\n",
       "      <td>3.0</td>\n",
       "      <td>12.8932</td>\n",
       "      <td>78.1654</td>\n",
       "      <td>Solar</td>\n",
       "      <td>NaN</td>\n",
       "      <td>NaN</td>\n",
       "      <td>...</td>\n",
       "      <td>NaN</td>\n",
       "      <td>NaN</td>\n",
       "      <td>NaN</td>\n",
       "      <td>NaN</td>\n",
       "      <td>NaN</td>\n",
       "      <td>NaN</td>\n",
       "      <td>NaN</td>\n",
       "      <td>NaN</td>\n",
       "      <td>NaN</td>\n",
       "      <td>NaN</td>\n",
       "    </tr>\n",
       "    <tr>\n",
       "      <th>904</th>\n",
       "      <td>IND</td>\n",
       "      <td>India</td>\n",
       "      <td>Yelisirur wind power project</td>\n",
       "      <td>WRI1026776</td>\n",
       "      <td>25.5</td>\n",
       "      <td>15.2758</td>\n",
       "      <td>75.5811</td>\n",
       "      <td>Wind</td>\n",
       "      <td>NaN</td>\n",
       "      <td>NaN</td>\n",
       "      <td>...</td>\n",
       "      <td>NaN</td>\n",
       "      <td>NaN</td>\n",
       "      <td>NaN</td>\n",
       "      <td>NaN</td>\n",
       "      <td>NaN</td>\n",
       "      <td>NaN</td>\n",
       "      <td>NaN</td>\n",
       "      <td>NaN</td>\n",
       "      <td>NaN</td>\n",
       "      <td>NaN</td>\n",
       "    </tr>\n",
       "    <tr>\n",
       "      <th>905</th>\n",
       "      <td>IND</td>\n",
       "      <td>India</td>\n",
       "      <td>ZAWAR MINES</td>\n",
       "      <td>WRI1019901</td>\n",
       "      <td>80.0</td>\n",
       "      <td>24.3500</td>\n",
       "      <td>73.7477</td>\n",
       "      <td>Coal</td>\n",
       "      <td>NaN</td>\n",
       "      <td>NaN</td>\n",
       "      <td>...</td>\n",
       "      <td>NaN</td>\n",
       "      <td>NaN</td>\n",
       "      <td>NaN</td>\n",
       "      <td>NaN</td>\n",
       "      <td>NaN</td>\n",
       "      <td>NaN</td>\n",
       "      <td>NaN</td>\n",
       "      <td>NaN</td>\n",
       "      <td>NaN</td>\n",
       "      <td>NaN</td>\n",
       "    </tr>\n",
       "    <tr>\n",
       "      <th>906</th>\n",
       "      <td>IND</td>\n",
       "      <td>India</td>\n",
       "      <td>iEnergy Theni Wind Farm</td>\n",
       "      <td>WRI1026761</td>\n",
       "      <td>16.5</td>\n",
       "      <td>9.9344</td>\n",
       "      <td>77.4768</td>\n",
       "      <td>Wind</td>\n",
       "      <td>NaN</td>\n",
       "      <td>NaN</td>\n",
       "      <td>...</td>\n",
       "      <td>NaN</td>\n",
       "      <td>NaN</td>\n",
       "      <td>NaN</td>\n",
       "      <td>NaN</td>\n",
       "      <td>NaN</td>\n",
       "      <td>NaN</td>\n",
       "      <td>NaN</td>\n",
       "      <td>NaN</td>\n",
       "      <td>NaN</td>\n",
       "      <td>NaN</td>\n",
       "    </tr>\n",
       "  </tbody>\n",
       "</table>\n",
       "<p>907 rows × 27 columns</p>\n",
       "</div>"
      ],
      "text/plain": [
       "    country country_long                          name   gppd_idnr  \\\n",
       "0       IND        India              ACME Solar Tower  WRI1020239   \n",
       "1       IND        India           ADITYA CEMENT WORKS  WRI1019881   \n",
       "2       IND        India      AES Saurashtra Windfarms  WRI1026669   \n",
       "3       IND        India                   AGARTALA GT  IND0000001   \n",
       "4       IND        India                  AKALTARA TPP  IND0000002   \n",
       "..      ...          ...                           ...         ...   \n",
       "902     IND        India                  YERMARUS TPP  IND0000513   \n",
       "903     IND        India  Yelesandra Solar Power Plant  WRI1026222   \n",
       "904     IND        India  Yelisirur wind power project  WRI1026776   \n",
       "905     IND        India                   ZAWAR MINES  WRI1019901   \n",
       "906     IND        India       iEnergy Theni Wind Farm  WRI1026761   \n",
       "\n",
       "     capacity_mw  latitude  longitude primary_fuel other_fuel1 other_fuel2  \\\n",
       "0            2.5   28.1839    73.2407        Solar         NaN         NaN   \n",
       "1           98.0   24.7663    74.6090         Coal         NaN         NaN   \n",
       "2           39.2   21.9038    69.3732         Wind         NaN         NaN   \n",
       "3          135.0   23.8712    91.3602          Gas         NaN         NaN   \n",
       "4         1800.0   21.9603    82.4091         Coal         Oil         NaN   \n",
       "..           ...       ...        ...          ...         ...         ...   \n",
       "902       1600.0   16.2949    77.3568         Coal         Oil         NaN   \n",
       "903          3.0   12.8932    78.1654        Solar         NaN         NaN   \n",
       "904         25.5   15.2758    75.5811         Wind         NaN         NaN   \n",
       "905         80.0   24.3500    73.7477         Coal         NaN         NaN   \n",
       "906         16.5    9.9344    77.4768         Wind         NaN         NaN   \n",
       "\n",
       "     ...  year_of_capacity_data  generation_gwh_2013 generation_gwh_2014  \\\n",
       "0    ...                    NaN                  NaN                 NaN   \n",
       "1    ...                    NaN                  NaN                 NaN   \n",
       "2    ...                    NaN                  NaN                 NaN   \n",
       "3    ...                 2019.0                  NaN          617.789264   \n",
       "4    ...                 2019.0                  NaN         3035.550000   \n",
       "..   ...                    ...                  ...                 ...   \n",
       "902  ...                 2019.0                  NaN                 NaN   \n",
       "903  ...                    NaN                  NaN                 NaN   \n",
       "904  ...                    NaN                  NaN                 NaN   \n",
       "905  ...                    NaN                  NaN                 NaN   \n",
       "906  ...                    NaN                  NaN                 NaN   \n",
       "\n",
       "    generation_gwh_2015 generation_gwh_2016 generation_gwh_2017  \\\n",
       "0                   NaN                 NaN                 NaN   \n",
       "1                   NaN                 NaN                 NaN   \n",
       "2                   NaN                 NaN                 NaN   \n",
       "3            843.747000          886.004428          663.774500   \n",
       "4           5916.370000         6243.000000         5385.579736   \n",
       "..                  ...                 ...                 ...   \n",
       "902            0.994875          233.596650          865.400000   \n",
       "903                 NaN                 NaN                 NaN   \n",
       "904                 NaN                 NaN                 NaN   \n",
       "905                 NaN                 NaN                 NaN   \n",
       "906                 NaN                 NaN                 NaN   \n",
       "\n",
       "     generation_gwh_2018  generation_gwh_2019         generation_data_source  \\\n",
       "0                    NaN                  NaN                            NaN   \n",
       "1                    NaN                  NaN                            NaN   \n",
       "2                    NaN                  NaN                            NaN   \n",
       "3             626.239128                  NaN  Central Electricity Authority   \n",
       "4            7279.000000                  NaN  Central Electricity Authority   \n",
       "..                   ...                  ...                            ...   \n",
       "902           686.500000                  NaN  Central Electricity Authority   \n",
       "903                  NaN                  NaN                            NaN   \n",
       "904                  NaN                  NaN                            NaN   \n",
       "905                  NaN                  NaN                            NaN   \n",
       "906                  NaN                  NaN                            NaN   \n",
       "\n",
       "     estimated_generation_gwh  \n",
       "0                         NaN  \n",
       "1                         NaN  \n",
       "2                         NaN  \n",
       "3                         NaN  \n",
       "4                         NaN  \n",
       "..                        ...  \n",
       "902                       NaN  \n",
       "903                       NaN  \n",
       "904                       NaN  \n",
       "905                       NaN  \n",
       "906                       NaN  \n",
       "\n",
       "[907 rows x 27 columns]"
      ]
     },
     "execution_count": 135,
     "metadata": {},
     "output_type": "execute_result"
    }
   ],
   "source": [
    "df"
   ]
  },
  {
   "cell_type": "code",
   "execution_count": 136,
   "id": "8e2b9441",
   "metadata": {},
   "outputs": [
    {
     "data": {
      "text/html": [
       "<div>\n",
       "<style scoped>\n",
       "    .dataframe tbody tr th:only-of-type {\n",
       "        vertical-align: middle;\n",
       "    }\n",
       "\n",
       "    .dataframe tbody tr th {\n",
       "        vertical-align: top;\n",
       "    }\n",
       "\n",
       "    .dataframe thead th {\n",
       "        text-align: right;\n",
       "    }\n",
       "</style>\n",
       "<table border=\"1\" class=\"dataframe\">\n",
       "  <thead>\n",
       "    <tr style=\"text-align: right;\">\n",
       "      <th></th>\n",
       "      <th>capacity_mw</th>\n",
       "      <th>latitude</th>\n",
       "      <th>longitude</th>\n",
       "      <th>other_fuel3</th>\n",
       "      <th>commissioning_year</th>\n",
       "      <th>wepp_id</th>\n",
       "      <th>year_of_capacity_data</th>\n",
       "      <th>generation_gwh_2013</th>\n",
       "      <th>generation_gwh_2014</th>\n",
       "      <th>generation_gwh_2015</th>\n",
       "      <th>generation_gwh_2016</th>\n",
       "      <th>generation_gwh_2017</th>\n",
       "      <th>generation_gwh_2018</th>\n",
       "      <th>generation_gwh_2019</th>\n",
       "      <th>estimated_generation_gwh</th>\n",
       "    </tr>\n",
       "  </thead>\n",
       "  <tbody>\n",
       "    <tr>\n",
       "      <th>count</th>\n",
       "      <td>907.000000</td>\n",
       "      <td>861.000000</td>\n",
       "      <td>861.000000</td>\n",
       "      <td>0.0</td>\n",
       "      <td>527.000000</td>\n",
       "      <td>0.0</td>\n",
       "      <td>519.0</td>\n",
       "      <td>0.0</td>\n",
       "      <td>398.000000</td>\n",
       "      <td>422.000000</td>\n",
       "      <td>434.000000</td>\n",
       "      <td>440.000000</td>\n",
       "      <td>448.000000</td>\n",
       "      <td>0.0</td>\n",
       "      <td>0.0</td>\n",
       "    </tr>\n",
       "    <tr>\n",
       "      <th>mean</th>\n",
       "      <td>326.223755</td>\n",
       "      <td>21.197918</td>\n",
       "      <td>77.464907</td>\n",
       "      <td>NaN</td>\n",
       "      <td>1997.091082</td>\n",
       "      <td>NaN</td>\n",
       "      <td>2019.0</td>\n",
       "      <td>NaN</td>\n",
       "      <td>2431.823590</td>\n",
       "      <td>2428.226946</td>\n",
       "      <td>2467.936859</td>\n",
       "      <td>2547.759305</td>\n",
       "      <td>2600.804099</td>\n",
       "      <td>NaN</td>\n",
       "      <td>NaN</td>\n",
       "    </tr>\n",
       "    <tr>\n",
       "      <th>std</th>\n",
       "      <td>590.085456</td>\n",
       "      <td>6.239612</td>\n",
       "      <td>4.939316</td>\n",
       "      <td>NaN</td>\n",
       "      <td>17.082868</td>\n",
       "      <td>NaN</td>\n",
       "      <td>0.0</td>\n",
       "      <td>NaN</td>\n",
       "      <td>4026.440035</td>\n",
       "      <td>4194.596959</td>\n",
       "      <td>4162.884308</td>\n",
       "      <td>4196.991169</td>\n",
       "      <td>4314.880456</td>\n",
       "      <td>NaN</td>\n",
       "      <td>NaN</td>\n",
       "    </tr>\n",
       "    <tr>\n",
       "      <th>min</th>\n",
       "      <td>0.000000</td>\n",
       "      <td>8.168900</td>\n",
       "      <td>68.644700</td>\n",
       "      <td>NaN</td>\n",
       "      <td>1927.000000</td>\n",
       "      <td>NaN</td>\n",
       "      <td>2019.0</td>\n",
       "      <td>NaN</td>\n",
       "      <td>0.000000</td>\n",
       "      <td>0.000000</td>\n",
       "      <td>0.000000</td>\n",
       "      <td>0.000000</td>\n",
       "      <td>0.000000</td>\n",
       "      <td>NaN</td>\n",
       "      <td>NaN</td>\n",
       "    </tr>\n",
       "    <tr>\n",
       "      <th>25%</th>\n",
       "      <td>16.725000</td>\n",
       "      <td>16.773900</td>\n",
       "      <td>74.256200</td>\n",
       "      <td>NaN</td>\n",
       "      <td>1988.000000</td>\n",
       "      <td>NaN</td>\n",
       "      <td>2019.0</td>\n",
       "      <td>NaN</td>\n",
       "      <td>223.557672</td>\n",
       "      <td>176.381063</td>\n",
       "      <td>188.285252</td>\n",
       "      <td>177.874930</td>\n",
       "      <td>193.378250</td>\n",
       "      <td>NaN</td>\n",
       "      <td>NaN</td>\n",
       "    </tr>\n",
       "    <tr>\n",
       "      <th>50%</th>\n",
       "      <td>59.200000</td>\n",
       "      <td>21.780000</td>\n",
       "      <td>76.719500</td>\n",
       "      <td>NaN</td>\n",
       "      <td>2001.000000</td>\n",
       "      <td>NaN</td>\n",
       "      <td>2019.0</td>\n",
       "      <td>NaN</td>\n",
       "      <td>801.123775</td>\n",
       "      <td>711.181225</td>\n",
       "      <td>737.205450</td>\n",
       "      <td>817.977250</td>\n",
       "      <td>751.644375</td>\n",
       "      <td>NaN</td>\n",
       "      <td>NaN</td>\n",
       "    </tr>\n",
       "    <tr>\n",
       "      <th>75%</th>\n",
       "      <td>385.250000</td>\n",
       "      <td>25.512400</td>\n",
       "      <td>79.440800</td>\n",
       "      <td>NaN</td>\n",
       "      <td>2012.000000</td>\n",
       "      <td>NaN</td>\n",
       "      <td>2019.0</td>\n",
       "      <td>NaN</td>\n",
       "      <td>3035.306250</td>\n",
       "      <td>3084.121250</td>\n",
       "      <td>3282.861313</td>\n",
       "      <td>3275.690475</td>\n",
       "      <td>3143.535900</td>\n",
       "      <td>NaN</td>\n",
       "      <td>NaN</td>\n",
       "    </tr>\n",
       "    <tr>\n",
       "      <th>max</th>\n",
       "      <td>4760.000000</td>\n",
       "      <td>34.649000</td>\n",
       "      <td>95.408000</td>\n",
       "      <td>NaN</td>\n",
       "      <td>2018.000000</td>\n",
       "      <td>NaN</td>\n",
       "      <td>2019.0</td>\n",
       "      <td>NaN</td>\n",
       "      <td>28127.000000</td>\n",
       "      <td>30539.000000</td>\n",
       "      <td>30015.000000</td>\n",
       "      <td>35116.000000</td>\n",
       "      <td>35136.000000</td>\n",
       "      <td>NaN</td>\n",
       "      <td>NaN</td>\n",
       "    </tr>\n",
       "  </tbody>\n",
       "</table>\n",
       "</div>"
      ],
      "text/plain": [
       "       capacity_mw    latitude   longitude  other_fuel3  commissioning_year  \\\n",
       "count   907.000000  861.000000  861.000000          0.0          527.000000   \n",
       "mean    326.223755   21.197918   77.464907          NaN         1997.091082   \n",
       "std     590.085456    6.239612    4.939316          NaN           17.082868   \n",
       "min       0.000000    8.168900   68.644700          NaN         1927.000000   \n",
       "25%      16.725000   16.773900   74.256200          NaN         1988.000000   \n",
       "50%      59.200000   21.780000   76.719500          NaN         2001.000000   \n",
       "75%     385.250000   25.512400   79.440800          NaN         2012.000000   \n",
       "max    4760.000000   34.649000   95.408000          NaN         2018.000000   \n",
       "\n",
       "       wepp_id  year_of_capacity_data  generation_gwh_2013  \\\n",
       "count      0.0                  519.0                  0.0   \n",
       "mean       NaN                 2019.0                  NaN   \n",
       "std        NaN                    0.0                  NaN   \n",
       "min        NaN                 2019.0                  NaN   \n",
       "25%        NaN                 2019.0                  NaN   \n",
       "50%        NaN                 2019.0                  NaN   \n",
       "75%        NaN                 2019.0                  NaN   \n",
       "max        NaN                 2019.0                  NaN   \n",
       "\n",
       "       generation_gwh_2014  generation_gwh_2015  generation_gwh_2016  \\\n",
       "count           398.000000           422.000000           434.000000   \n",
       "mean           2431.823590          2428.226946          2467.936859   \n",
       "std            4026.440035          4194.596959          4162.884308   \n",
       "min               0.000000             0.000000             0.000000   \n",
       "25%             223.557672           176.381063           188.285252   \n",
       "50%             801.123775           711.181225           737.205450   \n",
       "75%            3035.306250          3084.121250          3282.861313   \n",
       "max           28127.000000         30539.000000         30015.000000   \n",
       "\n",
       "       generation_gwh_2017  generation_gwh_2018  generation_gwh_2019  \\\n",
       "count           440.000000           448.000000                  0.0   \n",
       "mean           2547.759305          2600.804099                  NaN   \n",
       "std            4196.991169          4314.880456                  NaN   \n",
       "min               0.000000             0.000000                  NaN   \n",
       "25%             177.874930           193.378250                  NaN   \n",
       "50%             817.977250           751.644375                  NaN   \n",
       "75%            3275.690475          3143.535900                  NaN   \n",
       "max           35116.000000         35136.000000                  NaN   \n",
       "\n",
       "       estimated_generation_gwh  \n",
       "count                       0.0  \n",
       "mean                        NaN  \n",
       "std                         NaN  \n",
       "min                         NaN  \n",
       "25%                         NaN  \n",
       "50%                         NaN  \n",
       "75%                         NaN  \n",
       "max                         NaN  "
      ]
     },
     "execution_count": 136,
     "metadata": {},
     "output_type": "execute_result"
    }
   ],
   "source": [
    "df.describe()"
   ]
  },
  {
   "cell_type": "code",
   "execution_count": 137,
   "id": "eff3d703",
   "metadata": {},
   "outputs": [
    {
     "data": {
      "text/plain": [
       "<AxesSubplot:>"
      ]
     },
     "execution_count": 137,
     "metadata": {},
     "output_type": "execute_result"
    },
    {
     "data": {
      "image/png": "[encoded data removed]",
      "text/plain": [
       "<Figure size 1584x504 with 2 Axes>"
      ]
     },
     "metadata": {
      "needs_background": "light"
     },
     "output_type": "display_data"
    }
   ],
   "source": [
    "import matplotlib.pyplot as plt\n",
    "plt.figure(figsize=(22,7))\n",
    "sns.heatmap(df.describe(),annot=True,linewidths=0.1,linecolor=\"black\",fmt=\"0.2f\")"
   ]
  },
  {
   "cell_type": "code",
   "execution_count": 139,
   "id": "8c3d4ec6",
   "metadata": {},
   "outputs": [
    {
     "ename": "KeyError",
     "evalue": "'generation_data_source'",
     "output_type": "error",
     "traceback": [
      "\u001b[1;31m---------------------------------------------------------------------------\u001b[0m",
      "\u001b[1;31mKeyError\u001b[0m                                  Traceback (most recent call last)",
      "File \u001b[1;32m~\\anaconda3\\lib\\site-packages\\pandas\\core\\indexes\\base.py:3621\u001b[0m, in \u001b[0;36mIndex.get_loc\u001b[1;34m(self, key, method, tolerance)\u001b[0m\n\u001b[0;32m   3620\u001b[0m \u001b[38;5;28;01mtry\u001b[39;00m:\n\u001b[1;32m-> 3621\u001b[0m     \u001b[38;5;28;01mreturn\u001b[39;00m \u001b[38;5;28;43mself\u001b[39;49m\u001b[38;5;241;43m.\u001b[39;49m\u001b[43m_engine\u001b[49m\u001b[38;5;241;43m.\u001b[39;49m\u001b[43mget_loc\u001b[49m\u001b[43m(\u001b[49m\u001b[43mcasted_key\u001b[49m\u001b[43m)\u001b[49m\n\u001b[0;32m   3622\u001b[0m \u001b[38;5;28;01mexcept\u001b[39;00m \u001b[38;5;167;01mKeyError\u001b[39;00m \u001b[38;5;28;01mas\u001b[39;00m err:\n",
      "File \u001b[1;32m~\\anaconda3\\lib\\site-packages\\pandas\\_libs\\index.pyx:136\u001b[0m, in \u001b[0;36mpandas._libs.index.IndexEngine.get_loc\u001b[1;34m()\u001b[0m\n",
      "File \u001b[1;32m~\\anaconda3\\lib\\site-packages\\pandas\\_libs\\index.pyx:163\u001b[0m, in \u001b[0;36mpandas._libs.index.IndexEngine.get_loc\u001b[1;34m()\u001b[0m\n",
      "File \u001b[1;32mpandas\\_libs\\hashtable_class_helper.pxi:5198\u001b[0m, in \u001b[0;36mpandas._libs.hashtable.PyObjectHashTable.get_item\u001b[1;34m()\u001b[0m\n",
      "File \u001b[1;32mpandas\\_libs\\hashtable_class_helper.pxi:5206\u001b[0m, in \u001b[0;36mpandas._libs.hashtable.PyObjectHashTable.get_item\u001b[1;34m()\u001b[0m\n",
      "\u001b[1;31mKeyError\u001b[0m: 'generation_data_source'",
      "\nThe above exception was the direct cause of the following exception:\n",
      "\u001b[1;31mKeyError\u001b[0m                                  Traceback (most recent call last)",
      "Input \u001b[1;32mIn [139]\u001b[0m, in \u001b[0;36m<cell line: 2>\u001b[1;34m()\u001b[0m\n\u001b[0;32m      1\u001b[0m plt\u001b[38;5;241m.\u001b[39mfigure(figsize\u001b[38;5;241m=\u001b[39m(\u001b[38;5;241m22\u001b[39m,\u001b[38;5;241m7\u001b[39m))\n\u001b[1;32m----> 2\u001b[0m \u001b[43mdf\u001b[49m\u001b[38;5;241;43m.\u001b[39;49m\u001b[43mcorr\u001b[49m\u001b[43m(\u001b[49m\u001b[43m)\u001b[49m\u001b[43m[\u001b[49m\u001b[38;5;124;43m'\u001b[39;49m\u001b[38;5;124;43mgeneration_data_source\u001b[39;49m\u001b[38;5;124;43m'\u001b[39;49m\u001b[43m]\u001b[49m\u001b[38;5;241m.\u001b[39msort_values(ascending\u001b[38;5;241m=\u001b[39m\u001b[38;5;28;01mFalse\u001b[39;00m)\u001b[38;5;241m.\u001b[39mdrop([\u001b[38;5;124m'\u001b[39m\u001b[38;5;124mgeneration_data_source\u001b[39m\u001b[38;5;124m'\u001b[39m])\u001b[38;5;241m.\u001b[39mplot(kind\u001b[38;5;241m=\u001b[39m\u001b[38;5;124m'\u001b[39m\u001b[38;5;124mbar\u001b[39m\u001b[38;5;124m'\u001b[39m,color\u001b[38;5;241m=\u001b[39m\u001b[38;5;124m'\u001b[39m\u001b[38;5;124mc\u001b[39m\u001b[38;5;124m'\u001b[39m)\n\u001b[0;32m      3\u001b[0m plt\u001b[38;5;241m.\u001b[39mxlabel(\u001b[38;5;124m'\u001b[39m\u001b[38;5;124mFeature\u001b[39m\u001b[38;5;124m'\u001b[39m,fontsize\u001b[38;5;241m=\u001b[39m\u001b[38;5;241m14\u001b[39m)\n\u001b[0;32m      4\u001b[0m plt\u001b[38;5;241m.\u001b[39mylabel(\u001b[38;5;124m'\u001b[39m\u001b[38;5;124mcolumn with target names\u001b[39m\u001b[38;5;124m'\u001b[39m,fontsize\u001b[38;5;241m=\u001b[39m\u001b[38;5;241m14\u001b[39m)\n",
      "File \u001b[1;32m~\\anaconda3\\lib\\site-packages\\pandas\\core\\frame.py:3505\u001b[0m, in \u001b[0;36mDataFrame.__getitem__\u001b[1;34m(self, key)\u001b[0m\n\u001b[0;32m   3503\u001b[0m \u001b[38;5;28;01mif\u001b[39;00m \u001b[38;5;28mself\u001b[39m\u001b[38;5;241m.\u001b[39mcolumns\u001b[38;5;241m.\u001b[39mnlevels \u001b[38;5;241m>\u001b[39m \u001b[38;5;241m1\u001b[39m:\n\u001b[0;32m   3504\u001b[0m     \u001b[38;5;28;01mreturn\u001b[39;00m \u001b[38;5;28mself\u001b[39m\u001b[38;5;241m.\u001b[39m_getitem_multilevel(key)\n\u001b[1;32m-> 3505\u001b[0m indexer \u001b[38;5;241m=\u001b[39m \u001b[38;5;28;43mself\u001b[39;49m\u001b[38;5;241;43m.\u001b[39;49m\u001b[43mcolumns\u001b[49m\u001b[38;5;241;43m.\u001b[39;49m\u001b[43mget_loc\u001b[49m\u001b[43m(\u001b[49m\u001b[43mkey\u001b[49m\u001b[43m)\u001b[49m\n\u001b[0;32m   3506\u001b[0m \u001b[38;5;28;01mif\u001b[39;00m is_integer(indexer):\n\u001b[0;32m   3507\u001b[0m     indexer \u001b[38;5;241m=\u001b[39m [indexer]\n",
      "File \u001b[1;32m~\\anaconda3\\lib\\site-packages\\pandas\\core\\indexes\\base.py:3623\u001b[0m, in \u001b[0;36mIndex.get_loc\u001b[1;34m(self, key, method, tolerance)\u001b[0m\n\u001b[0;32m   3621\u001b[0m     \u001b[38;5;28;01mreturn\u001b[39;00m \u001b[38;5;28mself\u001b[39m\u001b[38;5;241m.\u001b[39m_engine\u001b[38;5;241m.\u001b[39mget_loc(casted_key)\n\u001b[0;32m   3622\u001b[0m \u001b[38;5;28;01mexcept\u001b[39;00m \u001b[38;5;167;01mKeyError\u001b[39;00m \u001b[38;5;28;01mas\u001b[39;00m err:\n\u001b[1;32m-> 3623\u001b[0m     \u001b[38;5;28;01mraise\u001b[39;00m \u001b[38;5;167;01mKeyError\u001b[39;00m(key) \u001b[38;5;28;01mfrom\u001b[39;00m \u001b[38;5;21;01merr\u001b[39;00m\n\u001b[0;32m   3624\u001b[0m \u001b[38;5;28;01mexcept\u001b[39;00m \u001b[38;5;167;01mTypeError\u001b[39;00m:\n\u001b[0;32m   3625\u001b[0m     \u001b[38;5;66;03m# If we have a listlike key, _check_indexing_error will raise\u001b[39;00m\n\u001b[0;32m   3626\u001b[0m     \u001b[38;5;66;03m#  InvalidIndexError. Otherwise we fall through and re-raise\u001b[39;00m\n\u001b[0;32m   3627\u001b[0m     \u001b[38;5;66;03m#  the TypeError.\u001b[39;00m\n\u001b[0;32m   3628\u001b[0m     \u001b[38;5;28mself\u001b[39m\u001b[38;5;241m.\u001b[39m_check_indexing_error(key)\n",
      "\u001b[1;31mKeyError\u001b[0m: 'generation_data_source'"
     ]
    },
    {
     "data": {
      "text/plain": [
       "<Figure size 1584x504 with 0 Axes>"
      ]
     },
     "metadata": {},
     "output_type": "display_data"
    }
   ],
   "source": [
    "plt.figure(figsize=(22,7))\n",
    "df.corr()['generation_data_source'].sort_values(ascending=False).drop(['generation_data_source']).plot(kind='bar',color='c')\n",
    "plt.xlabel('Feature',fontsize=14)\n",
    "plt.ylabel('column with target names',fontsize=14)\n",
    "plt.title('correlation',fontsize=18)\n",
    "plt.show()"
   ]
  },
  {
   "cell_type": "code",
   "execution_count": 140,
   "id": "b3a628bc",
   "metadata": {},
   "outputs": [
    {
     "data": {
      "text/plain": [
       "country                      object\n",
       "country_long                 object\n",
       "name                         object\n",
       "gppd_idnr                    object\n",
       "capacity_mw                 float64\n",
       "latitude                    float64\n",
       "longitude                   float64\n",
       "primary_fuel                 object\n",
       "other_fuel1                  object\n",
       "other_fuel2                  object\n",
       "other_fuel3                 float64\n",
       "commissioning_year          float64\n",
       "owner                        object\n",
       "source                       object\n",
       "url                          object\n",
       "geolocation_source           object\n",
       "wepp_id                     float64\n",
       "year_of_capacity_data       float64\n",
       "generation_gwh_2013         float64\n",
       "generation_gwh_2014         float64\n",
       "generation_gwh_2015         float64\n",
       "generation_gwh_2016         float64\n",
       "generation_gwh_2017         float64\n",
       "generation_gwh_2018         float64\n",
       "generation_gwh_2019         float64\n",
       "generation_data_source       object\n",
       "estimated_generation_gwh    float64\n",
       "dtype: object"
      ]
     },
     "execution_count": 140,
     "metadata": {},
     "output_type": "execute_result"
    }
   ],
   "source": [
    "df.dtypes"
   ]
  },
  {
   "cell_type": "code",
   "execution_count": 141,
   "id": "571a533c",
   "metadata": {},
   "outputs": [
    {
     "name": "stderr",
     "output_type": "stream",
     "text": [
      "C:\\Users\\mudraboyina srinivas\\AppData\\Local\\Temp\\ipykernel_14288\\1665899112.py:1: FutureWarning: Dropping of nuisance columns in DataFrame reductions (with 'numeric_only=None') is deprecated; in a future version this will raise TypeError.  Select only valid columns before calling the reduction.\n",
      "  df.skew()\n"
     ]
    },
    {
     "data": {
      "text/plain": [
       "capacity_mw                 3.123576\n",
       "latitude                   -0.145866\n",
       "longitude                   1.112646\n",
       "other_fuel3                      NaN\n",
       "commissioning_year         -1.067949\n",
       "wepp_id                          NaN\n",
       "year_of_capacity_data       0.000000\n",
       "generation_gwh_2013              NaN\n",
       "generation_gwh_2014         3.342707\n",
       "generation_gwh_2015         3.665904\n",
       "generation_gwh_2016         3.512370\n",
       "generation_gwh_2017         3.566070\n",
       "generation_gwh_2018         3.476298\n",
       "generation_gwh_2019              NaN\n",
       "estimated_generation_gwh         NaN\n",
       "dtype: float64"
      ]
     },
     "execution_count": 141,
     "metadata": {},
     "output_type": "execute_result"
    }
   ],
   "source": [
    "df.skew()"
   ]
  },
  {
   "cell_type": "code",
   "execution_count": 142,
   "id": "5527449d",
   "metadata": {},
   "outputs": [
    {
     "data": {
      "text/plain": [
       "<AxesSubplot:>"
      ]
     },
     "execution_count": 142,
     "metadata": {},
     "output_type": "execute_result"
    },
    {
     "data": {
      "image/png": "[encoded data removed]",
      "text/plain": [
       "<Figure size 432x288 with 1 Axes>"
      ]
     },
     "metadata": {
      "needs_background": "light"
     },
     "output_type": "display_data"
    }
   ],
   "source": [
    "df['longitude'].plot.box()"
   ]
  },
  {
   "cell_type": "code",
   "execution_count": 143,
   "id": "5195e9f3",
   "metadata": {},
   "outputs": [
    {
     "data": {
      "text/plain": [
       "<AxesSubplot:>"
      ]
     },
     "execution_count": 143,
     "metadata": {},
     "output_type": "execute_result"
    },
    {
     "data": {
      "image/png": "[encoded data removed]",
      "text/plain": [
       "<Figure size 432x288 with 1 Axes>"
      ]
     },
     "metadata": {
      "needs_background": "light"
     },
     "output_type": "display_data"
    }
   ],
   "source": [
    "df['other_fuel3'].plot.box()"
   ]
  },
  {
   "cell_type": "code",
   "execution_count": 144,
   "id": "d632feea",
   "metadata": {},
   "outputs": [
    {
     "data": {
      "text/plain": [
       "<AxesSubplot:>"
      ]
     },
     "execution_count": 144,
     "metadata": {},
     "output_type": "execute_result"
    },
    {
     "data": {
      "image/png": "[encoded data removed]",
      "text/plain": [
       "<Figure size 432x288 with 1 Axes>"
      ]
     },
     "metadata": {
      "needs_background": "light"
     },
     "output_type": "display_data"
    }
   ],
   "source": [
    "df['commissioning_year'].plot.box()"
   ]
  },
  {
   "cell_type": "code",
   "execution_count": 146,
   "id": "6d616634",
   "metadata": {},
   "outputs": [
    {
     "data": {
      "text/plain": [
       "<AxesSubplot:>"
      ]
     },
     "execution_count": 146,
     "metadata": {},
     "output_type": "execute_result"
    },
    {
     "data": {
      "image/png": "[encoded data removed]",
      "text/plain": [
       "<Figure size 432x288 with 1 Axes>"
      ]
     },
     "metadata": {
      "needs_background": "light"
     },
     "output_type": "display_data"
    }
   ],
   "source": [
    "df['year_of_capacity_data'].plot.box()"
   ]
  },
  {
   "cell_type": "code",
   "execution_count": 147,
   "id": "49ae90fa",
   "metadata": {},
   "outputs": [
    {
     "data": {
      "text/plain": [
       "<AxesSubplot:>"
      ]
     },
     "execution_count": 147,
     "metadata": {},
     "output_type": "execute_result"
    },
    {
     "data": {
      "image/png": "[encoded data removed]",
      "text/plain": [
       "<Figure size 432x288 with 1 Axes>"
      ]
     },
     "metadata": {
      "needs_background": "light"
     },
     "output_type": "display_data"
    }
   ],
   "source": [
    "df['generation_gwh_2013'].plot.box()"
   ]
  },
  {
   "cell_type": "code",
   "execution_count": 148,
   "id": "31b50e6b",
   "metadata": {},
   "outputs": [
    {
     "data": {
      "text/plain": [
       "<AxesSubplot:>"
      ]
     },
     "execution_count": 148,
     "metadata": {},
     "output_type": "execute_result"
    },
    {
     "data": {
      "image/png": "[encoded data removed]",
      "text/plain": [
       "<Figure size 432x288 with 1 Axes>"
      ]
     },
     "metadata": {
      "needs_background": "light"
     },
     "output_type": "display_data"
    }
   ],
   "source": [
    "df['generation_gwh_2014'].plot.box()"
   ]
  },
  {
   "cell_type": "code",
   "execution_count": 149,
   "id": "7809a9da",
   "metadata": {},
   "outputs": [
    {
     "data": {
      "text/plain": [
       "<AxesSubplot:>"
      ]
     },
     "execution_count": 149,
     "metadata": {},
     "output_type": "execute_result"
    },
    {
     "data": {
      "image/png": "[encoded data removed]",
      "text/plain": [
       "<Figure size 432x288 with 1 Axes>"
      ]
     },
     "metadata": {
      "needs_background": "light"
     },
     "output_type": "display_data"
    }
   ],
   "source": [
    "df['generation_gwh_2014'].plot.box()"
   ]
  },
  {
   "cell_type": "code",
   "execution_count": 150,
   "id": "192ec54e",
   "metadata": {},
   "outputs": [
    {
     "data": {
      "text/plain": [
       "<AxesSubplot:>"
      ]
     },
     "execution_count": 150,
     "metadata": {},
     "output_type": "execute_result"
    },
    {
     "data": {
      "image/png": "[encoded data removed]",
      "text/plain": [
       "<Figure size 432x288 with 1 Axes>"
      ]
     },
     "metadata": {
      "needs_background": "light"
     },
     "output_type": "display_data"
    }
   ],
   "source": [
    "df['generation_gwh_2015'].plot.box()"
   ]
  },
  {
   "cell_type": "code",
   "execution_count": 151,
   "id": "cda994a4",
   "metadata": {},
   "outputs": [
    {
     "data": {
      "text/plain": [
       "<AxesSubplot:>"
      ]
     },
     "execution_count": 151,
     "metadata": {},
     "output_type": "execute_result"
    },
    {
     "data": {
      "image/png": "[encoded data removed]",
      "text/plain": [
       "<Figure size 432x288 with 1 Axes>"
      ]
     },
     "metadata": {
      "needs_background": "light"
     },
     "output_type": "display_data"
    }
   ],
   "source": [
    "df['generation_gwh_2016'].plot.box()"
   ]
  },
  {
   "cell_type": "code",
   "execution_count": 152,
   "id": "e47f3592",
   "metadata": {},
   "outputs": [
    {
     "data": {
      "text/plain": [
       "<AxesSubplot:>"
      ]
     },
     "execution_count": 152,
     "metadata": {},
     "output_type": "execute_result"
    },
    {
     "data": {
      "image/png": "[encoded data removed]",
      "text/plain": [
       "<Figure size 432x288 with 1 Axes>"
      ]
     },
     "metadata": {
      "needs_background": "light"
     },
     "output_type": "display_data"
    }
   ],
   "source": [
    "df['generation_gwh_2017'].plot.box()"
   ]
  },
  {
   "cell_type": "code",
   "execution_count": 153,
   "id": "818004b2",
   "metadata": {},
   "outputs": [
    {
     "data": {
      "text/plain": [
       "<AxesSubplot:>"
      ]
     },
     "execution_count": 153,
     "metadata": {},
     "output_type": "execute_result"
    },
    {
     "data": {
      "image/png": "[encoded data removed]",
      "text/plain": [
       "<Figure size 432x288 with 1 Axes>"
      ]
     },
     "metadata": {
      "needs_background": "light"
     },
     "output_type": "display_data"
    }
   ],
   "source": [
    "df['generation_gwh_2018'].plot.box()"
   ]
  },
  {
   "cell_type": "code",
   "execution_count": 154,
   "id": "b74baeca",
   "metadata": {},
   "outputs": [
    {
     "data": {
      "text/plain": [
       "<AxesSubplot:>"
      ]
     },
     "execution_count": 154,
     "metadata": {},
     "output_type": "execute_result"
    },
    {
     "data": {
      "image/png": "[encoded data removed]",
      "text/plain": [
       "<Figure size 432x288 with 1 Axes>"
      ]
     },
     "metadata": {
      "needs_background": "light"
     },
     "output_type": "display_data"
    }
   ],
   "source": [
    "df['generation_gwh_2019'].plot.box()"
   ]
  },
  {
   "cell_type": "code",
   "execution_count": 155,
   "id": "b4922864",
   "metadata": {},
   "outputs": [
    {
     "data": {
      "text/plain": [
       "<AxesSubplot:>"
      ]
     },
     "execution_count": 155,
     "metadata": {},
     "output_type": "execute_result"
    },
    {
     "data": {
      "image/png": "[encoded data removed]",
      "text/plain": [
       "<Figure size 432x288 with 1 Axes>"
      ]
     },
     "metadata": {
      "needs_background": "light"
     },
     "output_type": "display_data"
    }
   ],
   "source": [
    "df['estimated_generation_gwh'].plot.box()"
   ]
  },
  {
   "cell_type": "code",
   "execution_count": 158,
   "id": "87153b87",
   "metadata": {},
   "outputs": [
    {
     "data": {
      "text/plain": [
       "array([73.2407, 74.609 , 69.3732, 91.3602, 82.4091, 68.6447, 77.0078,\n",
       "       77.207 , 75.8863, 81.6373, 77.9009, 76.4938, 82.8   , 77.8769,\n",
       "           nan, 82.7891, 76.3188, 81.7841, 81.7865, 76.1851, 74.7061,\n",
       "       74.9191, 79.5286, 83.2741, 79.1518, 74.2402, 76.3926, 77.687 ,\n",
       "       73.6396, 77.1893, 76.3482, 71.6917, 71.6918, 71.6916, 77.3066,\n",
       "       75.225 , 75.3155, 76.1418, 87.4513, 82.1221, 79.3421, 74.689 ,\n",
       "       82.4305, 88.4042, 76.4695, 81.2875, 81.2747, 74.2562, 83.1889,\n",
       "       91.565 , 86.0218, 79.925 , 85.7452, 79.8066, 73.2   , 80.2682,\n",
       "       78.241 , 76.7986, 74.5345, 79.0547, 74.8209, 74.7111, 76.7909,\n",
       "       77.1036, 76.7195, 75.6373, 75.7131, 76.4328, 79.6311, 79.7708,\n",
       "       73.8087, 73.7252, 73.4173, 72.2222, 77.758 , 77.8659, 77.7145,\n",
       "       74.7529, 81.4237, 73.3907, 73.3498, 73.4527, 75.8425, 74.6216,\n",
       "       78.1606, 78.1336, 73.0901, 83.2058, 76.6537, 81.0333, 86.0888,\n",
       "       85.88  , 90.5287, 74.1543, 76.3744, 88.14  , 76.532 , 78.9535,\n",
       "       78.9333, 76.1807, 73.5286, 77.416 , 72.3188, 72.3134, 72.3554,\n",
       "       72.3042, 69.843 , 69.8441, 72.3245, 72.3388, 70.8304, 74.5417,\n",
       "       75.5625, 74.7007, 68.8782, 71.5782, 75.0565, 73.286 , 69.0255,\n",
       "       75.49  , 71.5212, 82.5532, 76.2552, 75.9857, 76.44  , 79.1133,\n",
       "       74.6367, 74.6656, 79.1346, 79.1757, 86.1273, 79.29  , 76.2477,\n",
       "       76.0376, 75.1705, 77.0357, 77.7915, 78.2203, 76.1137, 88.6659,\n",
       "       77.0825, 79.2712, 71.1881, 70.4603, 83.1107, 87.3023, 77.6078,\n",
       "       77.6101, 75.6189, 72.0091, 80.1264, 76.377 , 74.6338, 75.8808,\n",
       "       76.8686, 84.9843, 72.6215, 77.7368, 77.6821, 72.7478, 79.2033,\n",
       "       80.5727, 77.8492, 72.752 , 73.004 , 88.5247, 92.9737, 75.0382,\n",
       "       73.039 , 81.8296, 94.2612, 74.0095, 75.8448, 75.7985, 81.2099,\n",
       "       87.25  , 87.2043, 77.6314, 74.6283, 72.8899, 74.6215, 75.8988,\n",
       "       72.1999, 70.0773, 72.0083, 72.651 , 76.733 , 73.9269, 72.655 ,\n",
       "       69.8442, 76.5137, 73.7839, 87.894 , 77.3615, 77.6458, 73.1017,\n",
       "       69.9494, 78.8648, 76.182 , 76.2787, 78.9632, 73.1136, 74.7781,\n",
       "       72.6765, 75.5529, 76.492 , 82.1286, 79.104 , 73.9765, 77.7786,\n",
       "       74.6447, 73.6509, 75.1661, 79.12  , 77.4968, 75.8613, 78.9793,\n",
       "       82.3097, 75.1464, 79.1845, 81.8111, 77.1325, 91.8223, 75.5868,\n",
       "       72.3896, 72.3969, 72.669 , 92.7109, 72.2241, 72.5377, 76.6551,\n",
       "       69.9187, 74.6188, 74.6567, 77.1596, 88.1764, 76.3379, 74.4045,\n",
       "       82.5977, 76.4004, 69.7399, 72.6613, 77.1384, 83.8754, 76.6279,\n",
       "       75.5639, 74.3091, 77.4588, 70.6722, 70.2313, 78.1326, 75.762 ,\n",
       "       76.3224, 83.86  , 77.2504, 76.7137, 77.0555, 79.0556, 76.1906,\n",
       "       83.92  , 88.0995, 76.4728, 76.3754, 79.7515, 76.0223, 72.5235,\n",
       "       74.6641, 75.6778, 72.2242, 88.8747, 71.3236, 73.0017, 81.1698,\n",
       "       81.1748, 81.3293, 81.86  , 74.7994, 86.2491, 88.2924, 73.212 ,\n",
       "       71.2801, 87.0695, 70.509 , 70.5465, 72.7629, 70.3961, 74.2393,\n",
       "       77.0435, 73.8254, 74.3916, 87.2635, 74.4385, 79.8265, 76.9717,\n",
       "       73.3489, 74.5268, 76.0986, 77.0697, 77.4389, 80.831 , 85.2671,\n",
       "       73.917 , 74.2459, 79.8216, 92.5171, 78.1073, 76.1299, 79.5287,\n",
       "       82.5549, 74.9929, 75.4568, 95.408 , 76.737 , 72.6879, 76.4283,\n",
       "       75.3131, 73.6116, 80.8307, 92.6679, 77.6017, 80.0243, 77.8001,\n",
       "       73.3558, 73.259 , 74.7514, 77.0411, 74.5904, 77.3125, 85.5517,\n",
       "       75.8067, 87.8713, 76.8761, 74.4583, 74.2993, 74.1201, 76.7606,\n",
       "       81.8622, 80.5504, 76.9787, 76.2507, 79.096 , 82.6858, 82.7188,\n",
       "       82.6888, 86.9549, 75.8171, 75.8883, 78.4971, 79.4507, 73.684 ,\n",
       "       77.0912, 75.8349, 77.6296, 76.6511, 77.1327, 75.5302, 82.0841,\n",
       "       68.7843, 77.1068, 79.57  , 80.6144, 91.7895, 80.6936, 79.116 ,\n",
       "       70.9996, 78.3917, 70.388 , 77.6191, 74.2524, 74.2553, 78.6025,\n",
       "       78.6001, 73.2014, 75.0381, 71.9951, 71.991 , 76.589 , 70.0548,\n",
       "       70.0536, 72.3236, 74.3272, 71.026 , 79.5898, 68.6988, 77.2471,\n",
       "       76.6709, 77.7126, 76.1901, 94.8833, 78.6463, 83.4573, 77.212 ,\n",
       "       74.8388, 77.537 , 71.4974, 73.2032, 75.7161, 93.6696, 74.5281,\n",
       "       77.7773, 77.7583, 76.957 , 81.6814, 77.6055, 74.3316, 75.4023,\n",
       "       75.4826, 69.827 , 71.5322, 74.0733, 80.1754, 82.4645, 77.0225,\n",
       "       77.8348, 86.0613, 82.4172, 76.351 , 78.5814, 74.5062, 72.8963,\n",
       "       80.7997, 86.8284, 86.76  , 77.2494, 76.4591, 78.4238, 74.8496,\n",
       "       73.3529, 75.9522, 75.0462, 73.8144, 79.1761, 76.8798, 79.2206,\n",
       "       82.6022, 78.3717, 81.9415, 87.1311, 78.1374, 77.8138, 77.8085,\n",
       "       78.9334, 91.274 , 74.4072, 79.3978, 76.6919, 70.7381, 75.7965,\n",
       "       75.3005, 75.836 , 79.7148, 72.8948, 72.9465, 72.8997, 69.5532,\n",
       "       69.5281, 76.3288, 75.1002, 73.3638, 85.3017, 92.2279, 73.9032,\n",
       "       75.781 , 75.3099, 75.308 , 68.9925, 70.7455, 70.681 , 73.5081,\n",
       "       78.4089, 84.1588, 79.3442, 79.4909, 75.408 , 73.1862, 79.485 ,\n",
       "       79.0548, 79.2455, 95.376 , 78.8132, 76.3369, 76.9792, 73.8896,\n",
       "       74.0835, 77.98  , 83.2788, 76.4014, 91.8239, 79.4611, 79.4704,\n",
       "       79.4417, 79.4408, 79.4159, 81.9045, 74.6843, 77.1842, 74.6092,\n",
       "       77.9576, 76.3154, 80.3257, 91.981 , 79.3389, 76.0718, 77.6873,\n",
       "       81.8717, 77.5713, 75.3789, 72.206 , 72.9661, 77.4753, 82.9655,\n",
       "       82.9803, 76.1619, 71.0643, 68.6975, 79.834 , 72.979 , 80.1431,\n",
       "       75.3696, 91.4385, 77.0548, 74.9175, 86.7473, 76.8763, 77.0281,\n",
       "       77.3627, 76.7948, 77.2576, 76.7282, 93.8107, 78.7588, 76.5254,\n",
       "       76.6045, 73.1814, 82.7246, 78.0415, 73.4948, 82.1283, 79.2086,\n",
       "       77.7147, 77.1905, 71.4693, 78.2563, 75.9469, 76.617 , 77.0706,\n",
       "       77.2528, 77.7036, 81.6594, 80.0525, 74.7531, 86.097 , 76.6011,\n",
       "       68.7653, 73.8368, 74.3795, 70.2729, 72.2677, 75.5622, 72.0078,\n",
       "       72.0099, 70.5948, 70.6216, 77.5777, 77.4501, 70.7432, 71.9424,\n",
       "       74.546 , 75.5794, 74.1234, 73.9616, 86.661 , 77.3422, 77.3608,\n",
       "       83.2331, 81.8525, 77.1749, 77.2542, 78.2322, 75.869 , 74.1197,\n",
       "       76.577 , 77.4524, 78.7574, 70.538 , 88.1376, 77.5927, 93.8168,\n",
       "       88.2921, 76.245 , 75.7305, 74.1878, 82.493 , 73.167 , 78.4577,\n",
       "       73.877 , 85.0355, 82.7915, 83.0361, 77.1016, 75.832 , 91.1948,\n",
       "       76.5847, 79.936 , 79.4494, 79.456 , 76.719 , 76.7329, 78.4805,\n",
       "       75.1631, 79.4873, 70.0097, 75.679 , 70.7736, 72.2164, 72.2127,\n",
       "       72.2193, 72.1577, 72.4706, 74.8763, 75.9246, 70.6004, 73.7559,\n",
       "       73.7501, 77.0727, 88.1046, 75.1361, 74.8097, 69.7101, 82.6062,\n",
       "       78.4038, 78.0445, 75.0411, 74.4272, 74.4821, 74.5898, 78.4835,\n",
       "       81.0668, 74.5003, 86.4666, 76.8302, 82.6275, 80.858 , 78.173 ,\n",
       "       74.1924, 79.9123, 80.1443, 77.0309, 77.3048, 75.8215, 75.9006,\n",
       "       76.8072, 74.7673, 77.1906, 74.5854, 76.7305, 76.879 , 74.3858,\n",
       "       74.7162, 74.8405, 75.8832, 74.2673, 69.8276, 83.0917, 80.0838,\n",
       "       79.5748, 82.7068, 78.0876, 82.293 , 80.0407, 77.165 , 77.246 ,\n",
       "       74.8397, 88.2926, 78.7924, 78.9007, 78.9118, 77.7142, 84.0404,\n",
       "       85.555 , 72.9889, 73.106 , 74.0202, 77.2726, 73.0575, 82.5257,\n",
       "       82.7047, 77.6271, 77.3199, 77.591 , 83.4538, 83.4632, 77.3841,\n",
       "       74.3862, 74.3529, 75.7767, 73.9096, 71.0063, 77.1638, 70.6206,\n",
       "       70.6146, 70.6268, 73.9074, 74.631 , 74.3386, 76.5317, 82.6415,\n",
       "       78.4487, 71.9324, 70.6958, 70.7262, 70.5443, 74.3686, 70.6417,\n",
       "       79.2036, 79.1863, 85.2072, 85.074 , 75.2372, 83.4513, 80.0946,\n",
       "       82.602 , 74.816 , 72.6617, 88.2332, 77.9635, 88.3155, 88.4604,\n",
       "       88.4562, 88.443 , 88.6505, 78.4795, 85.8936, 72.8709, 73.0258,\n",
       "       76.7817, 74.1588, 85.5198, 79.9671, 88.371 , 76.6622, 72.5933,\n",
       "       72.8983, 72.8967, 72.8892, 92.8837, 76.8756, 78.1753, 78.1699,\n",
       "       77.5077, 77.659 , 74.7001, 85.0987, 77.6752, 75.5767, 74.8441,\n",
       "       77.3709, 77.3355, 72.8536, 77.3785, 77.33  , 69.8323, 75.5819,\n",
       "       88.5572, 83.1215, 74.8002, 75.1197, 73.5917, 73.5574, 73.5866,\n",
       "       91.9003, 91.8114, 81.3274, 72.9895, 77.5123, 82.8594, 82.5934,\n",
       "       82.0179, 75.1245, 72.9715, 72.9293, 74.1857, 74.0318, 76.0584,\n",
       "       72.8705, 82.3166, 77.237 , 77.5905, 73.502 , 78.9215, 80.3023,\n",
       "       78.9235, 74.9484, 77.6515, 77.5526, 77.293 , 81.8141, 75.3218,\n",
       "       77.1513, 80.537 , 80.5382, 81.7245, 74.8012, 82.6719, 74.0968,\n",
       "       79.5468, 83.1382, 74.9885, 73.1273, 76.9775, 73.3588, 78.9792,\n",
       "       78.6385, 73.866 , 77.5684, 72.4397, 79.0237, 77.2216, 77.4466,\n",
       "       70.6877, 77.3257, 74.2456, 77.5838, 77.3568, 78.1654, 75.5811,\n",
       "       73.7477, 77.4768])"
      ]
     },
     "execution_count": 158,
     "metadata": {},
     "output_type": "execute_result"
    }
   ],
   "source": [
    "df['longitude'].unique()"
   ]
  },
  {
   "cell_type": "code",
   "execution_count": 159,
   "id": "99513910",
   "metadata": {},
   "outputs": [
    {
     "data": {
      "text/plain": [
       "(907, 27)"
      ]
     },
     "execution_count": 159,
     "metadata": {},
     "output_type": "execute_result"
    }
   ],
   "source": [
    "df.shape"
   ]
  },
  {
   "cell_type": "code",
   "execution_count": 165,
   "id": "414d46ac",
   "metadata": {},
   "outputs": [],
   "source": [
    "data_loss=((7043-6361/7043*100))"
   ]
  },
  {
   "cell_type": "code",
   "execution_count": 166,
   "id": "b399b64a",
   "metadata": {},
   "outputs": [
    {
     "data": {
      "text/plain": [
       "6952.683373562402"
      ]
     },
     "execution_count": 166,
     "metadata": {},
     "output_type": "execute_result"
    }
   ],
   "source": [
    "data_loss"
   ]
  },
  {
   "cell_type": "code",
   "execution_count": 167,
   "id": "6fcef5c6",
   "metadata": {},
   "outputs": [],
   "source": [
    "features=df.drop(\"longitude\",axis=1)\n",
    "target=df[\"longitude\"]"
   ]
  },
  {
   "cell_type": "code",
   "execution_count": 168,
   "id": "aa63709c",
   "metadata": {},
   "outputs": [],
   "source": [
    "from sklearn.preprocessing import MinMaxScaler\n",
    "mms=MinMaxScaler()\n",
    "from sklearn.linear_model import LinearRegression\n",
    "lr=LinearRegression()\n",
    "from sklearn.metrics import r2_score\n",
    "from sklearn.model_selection import train_test_split"
   ]
  },
  {
   "cell_type": "code",
   "execution_count": 169,
   "id": "0644fc00",
   "metadata": {},
   "outputs": [],
   "source": [
    "import warnings\n",
    "warnings.filterwarnings('ignore')"
   ]
  }
 ],
 "metadata": {
  "kernelspec": {
   "display_name": "Python 3 (ipykernel)",
   "language": "python",
   "name": "python3"
  },
  "language_info": {
   "codemirror_mode": {
    "name": "ipython",
    "version": 3
   },
   "file_extension": ".py",
   "mimetype": "text/x-python",
   "name": "python",
   "nbconvert_exporter": "python",
   "pygments_lexer": "ipython3",
   "version": "3.9.12"
  }
 },
 "nbformat": 4,
 "nbformat_minor": 5
}
